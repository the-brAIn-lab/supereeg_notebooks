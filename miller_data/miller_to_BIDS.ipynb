{
 "cells": [
  {
   "cell_type": "code",
   "execution_count": 2,
   "id": "d1b8f505-f5d7-44a7-8338-c53aab26e05e",
   "metadata": {},
   "outputs": [],
   "source": [
    "import os\n",
    "import shutil"
   ]
  },
  {
   "cell_type": "code",
   "execution_count": 135,
   "id": "49607ab9-db43-4dcb-a40c-7022b0fea62f",
   "metadata": {},
   "outputs": [],
   "source": [
    "# edit this line to match the task\n",
    "task = 'visual-search'\n",
    "\n",
    "# edit this line to match the path\n",
    "data_path = f'./bids_miller_data/{task}'\n",
    "\n",
    "# edit this line to match the format of the files in the folder\n",
    "ids = [x[:2] for x in os.listdir(f\"{data_path}\") if x[0] != '.' and len(x) == 2]"
   ]
  },
  {
   "cell_type": "code",
   "execution_count": 137,
   "id": "cc7804c3-d313-4ab3-b67c-a1db5c5adff8",
   "metadata": {},
   "outputs": [],
   "source": [
    "for x in ids:\n",
    "    if not os.path.exists(f\"{data_path}/sub-{x}\"):\n",
    "        os.makedirs(f\"{data_path}/sub-{x}\")\n",
    "    if not os.path.exists(f\"{data_path}/sub-{x}/anat\"):\n",
    "        os.makedirs(f\"{data_path}/sub-{x}/anat\")\n",
    "    if not os.path.exists(f\"{data_path}/sub-{x}/ieeg\"):\n",
    "        os.makedirs(f\"{data_path}/sub-{x}/ieeg\")\n",
    "    \"\"\"\n",
    "    brain_src = f\"{data_path}/brains/{x}_brain.mat\"\n",
    "    brain_dst = f\"{data_path}/sub-{x}/anat/sub-{x}_brain.mat\"\n",
    "    if os.path.exists(brain_src) and not os.path.exists(brain_dst):\n",
    "        shutil.copy(brain_src, brain_dst)\n",
    "    \n",
    "    loc_src = f\"{data_path}/locs/{x}_electrodes.mat\"\n",
    "    loc_dst = f\"{data_path}/sub-{x}/ieeg/sub-{x}_electrodes.mat\"\n",
    "    if os.path.exists(loc_src) and not os.path.exists(loc_dst):\n",
    "        shutil.copy(loc_src, loc_dst)\n",
    "    \"\"\"\n",
    "\n",
    "    # edit this line to match the file names and types\n",
    "    for name in [y[3:-4] for y in os.listdir(f\"{data_path}/{x}\") if y.endswith(\".mat\")]:\n",
    "        \n",
    "        # edit this line to match the file names\n",
    "        data_src = f\"{data_path}/{x}/{x}_{name}.mat\"\n",
    "        \n",
    "        data_dst = f\"{data_path}/sub-{x}/ieeg/sub-{x}_{name.replace('_','-')}_ieeg.mat\"\n",
    "        if os.path.exists(data_src) and not os.path.exists(data_dst):\n",
    "            shutil.copy(data_src, data_dst)"
   ]
  },
  {
   "cell_type": "code",
   "execution_count": 128,
   "id": "3a44b13a-1c50-43db-8380-88d33198f9a2",
   "metadata": {},
   "outputs": [
    {
     "name": "stdout",
     "output_type": "stream",
     "text": [
      "['nouns_L2_R1', 'nouns_L1_R3', 'verbs_L2_R3', 'verbs_L1_R3', 'nouns_L2_R2', 'nouns_L2_R3', 'verbs_L2_R2', 'verbs_L2_R1', 'base', 'verbs_L1_R1', 'nouns_L1_R2', 'verbs_L1_R2', 'nouns_L1_R1']\n",
      "['nouns_L1_R3', 'verbs_L1_R1', 'nouns_L1_R2', 'verbs_L1_R3', 'nouns_L2_R2', 'verbs_L1_R2', 'verbs_L2_R2', 'verbs_L2_R1', 'verbs_L2_R3', 'nouns_L2_R3', 'nouns_L2_R1', 'nouns_L1_R1']\n",
      "['nouns_L1_R3', 'nouns_L1_R2', 'verbs_L1_R1', 'verbs_L2_R1', 'verbs_L1_R2', 'verbs_L1_R3', 'nouns_L2_R3', 'base', 'verbs_L2_R2', 'nouns_L2_R1', 'verbs_L2_R3', 'nouns_L2_R2', 'nouns_L1_R1']\n"
     ]
    }
   ],
   "source": [
    "for x in ids:\n",
    "    names = [y[3:-4] for y in os.listdir(f\"{data_path}/{x}\") if y.endswith(\".mat\")]\n",
    "    print(names)"
   ]
  },
  {
   "cell_type": "code",
   "execution_count": null,
   "id": "4e2d0199-e64e-441c-9683-7b5721722467",
   "metadata": {},
   "outputs": [],
   "source": []
  }
 ],
 "metadata": {
  "kernelspec": {
   "display_name": "Python 3 (ipykernel)",
   "language": "python",
   "name": "python3"
  },
  "language_info": {
   "codemirror_mode": {
    "name": "ipython",
    "version": 3
   },
   "file_extension": ".py",
   "mimetype": "text/x-python",
   "name": "python",
   "nbconvert_exporter": "python",
   "pygments_lexer": "ipython3",
   "version": "3.12.8"
  }
 },
 "nbformat": 4,
 "nbformat_minor": 5
}
