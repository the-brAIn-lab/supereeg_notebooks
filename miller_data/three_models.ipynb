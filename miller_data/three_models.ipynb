{
 "cells": [
  {
   "cell_type": "markdown",
   "id": "dd45946c-a934-4085-8c41-32a4404a5003",
   "metadata": {},
   "source": [
    "# Make three models\n",
    "\n",
    "The faceshouses dataset includes observations for a basic task from fourteen patients and observations for a noisy task from seven of them. In this notebook three models will be made:\n",
    "\n",
    "1. The basic observations of the seven patients who have noisy observations\n",
    "2. All fourteen patients who have basic observations\n",
    "3. The basic and noisy observations from the seven patients"
   ]
  },
  {
   "cell_type": "code",
   "execution_count": 1,
   "id": "70b23623-b2a2-478e-95c4-d0cc799813b1",
   "metadata": {},
   "outputs": [],
   "source": [
    "import supereeg as se\n",
    "import os\n",
    "import numpy as np\n",
    "from scipy.io import loadmat"
   ]
  },
  {
   "cell_type": "markdown",
   "id": "27747bcc-9b0d-4b43-968b-1af20a58f937",
   "metadata": {},
   "source": [
    "### Load faceshouses_basic"
   ]
  },
  {
   "cell_type": "code",
   "execution_count": 30,
   "id": "cab5e86e-9b8e-4e99-a14b-ce71fb80bb46",
   "metadata": {},
   "outputs": [],
   "source": [
    "# load the data\n",
    "data_dir = './faces_basic/data/'\n",
    "data_name = 'faceshouses.mat'\n",
    "locs_dir = './faces_basic/locs/'\n",
    "locs_name = 'xslocs.mat'\n",
    "\n",
    "fh_ids = [x for x in os.listdir(data_dir) if x[0] != '.']\n",
    "\n",
    "fh_data = {f'{x}':loadmat(f\"{data_dir}{x}/{x}_{data_name}\") for x in fh_ids}\n",
    "fh_locs = [loadmat(f\"{locs_dir}{x}_{locs_name}\")['locs'] for x in fh_ids]"
   ]
  },
  {
   "cell_type": "code",
   "execution_count": 3,
   "id": "962ff3ec-ee4c-46e1-9a23-6082bfae4494",
   "metadata": {},
   "outputs": [],
   "source": [
    "# make them into brains\n",
    "fh_bos = {f'{x}':se.Brain(data = fh_data[x]['data'], locs = fh_locs[i], \n",
    "                sample_rate = fh_data[x]['srate']) for i,x in enumerate(fh_ids)}"
   ]
  },
  {
   "cell_type": "markdown",
   "id": "4639de91-60c7-43e1-bd85-0de6a71404f5",
   "metadata": {},
   "source": [
    "### Load faceshouses_noise"
   ]
  },
  {
   "cell_type": "code",
   "execution_count": 4,
   "id": "c28c16e5-3703-42e4-ab9c-04afd0d55080",
   "metadata": {},
   "outputs": [],
   "source": [
    "# load the data\n",
    "data_dir = './faces_noise/data/'\n",
    "data_name = 'fhnoisy.mat'\n",
    "locs_dir = './faces_noise/locs/'\n",
    "locs_name = 'xslocs.mat'\n",
    "\n",
    "fn_ids = [x for x in os.listdir(data_dir) if x[0] != '.']\n",
    "\n",
    "fn_data = {f'{x}':loadmat(f\"{data_dir}{x}/{x}_{data_name}\") for x in fn_ids}\n",
    "fn_locs = [loadmat(f\"{locs_dir}{x}_{locs_name}\")['locs'] for x in fn_ids]"
   ]
  },
  {
   "cell_type": "code",
   "execution_count": 5,
   "id": "2ba33e8c-5fb2-49c8-9674-748837487888",
   "metadata": {},
   "outputs": [],
   "source": [
    "# make them into brains\n",
    "fn_bos = [se.Brain(data = fn_data[x]['data'], locs = fn_locs[i], \n",
    "                sample_rate = fn_data[x]['srate']) for i,x in enumerate(fn_ids)]"
   ]
  },
  {
   "cell_type": "markdown",
   "id": "663ae7ef-559b-46c2-8fd9-574c33bdc910",
   "metadata": {},
   "source": [
    "### Make a model using basic seven"
   ]
  },
  {
   "cell_type": "code",
   "execution_count": 6,
   "id": "4eb7dba9-cb0f-4c0c-bc19-6c088306f8a3",
   "metadata": {},
   "outputs": [],
   "source": [
    "basic7_bos = [fh_bos[x] for x in fn_ids]\n",
    "mo_basic7 = se.Model(data = basic7_bos, n_subs = len(basic7_bos))"
   ]
  },
  {
   "cell_type": "code",
   "execution_count": 24,
   "id": "3c2fd08f-e29b-4905-a974-1964838b2de3",
   "metadata": {},
   "outputs": [
    {
     "name": "stdout",
     "output_type": "stream",
     "text": [
      "Number of locations: 280\n",
      "Number of subjects: 7\n",
      "RBF width: 20\n",
      "Date created: Tue Jan 21 11:41:43 2025\n",
      "Meta data: {'stable': True}\n"
     ]
    }
   ],
   "source": [
    "mo_basic7.info()"
   ]
  },
  {
   "cell_type": "markdown",
   "id": "fdd0c527-2736-411b-b063-f6a92231eb9e",
   "metadata": {},
   "source": [
    "### Make a model using basic fourteen\n",
    "not using subject 'jm' because it's missing locs for some reason. That's the one that has the most zeroes"
   ]
  },
  {
   "cell_type": "code",
   "execution_count": 23,
   "id": "fa303ce0-2ea4-4ae8-88ac-ecef3ac27ebd",
   "metadata": {},
   "outputs": [],
   "source": [
    "basic14_bos = [fh_bos[x] for x in fh_ids if x != 'jm']\n",
    "mo_basic14 = se.Model(data = basic14_bos, n_subs = len(basic14_bos))"
   ]
  },
  {
   "cell_type": "code",
   "execution_count": 25,
   "id": "57e8d251-25fe-4b71-a2c5-1f073b7b2429",
   "metadata": {},
   "outputs": [
    {
     "name": "stdout",
     "output_type": "stream",
     "text": [
      "Number of locations: 541\n",
      "Number of subjects: 13\n",
      "RBF width: 20\n",
      "Date created: Tue Jan 21 12:10:08 2025\n",
      "Meta data: {'stable': True}\n"
     ]
    }
   ],
   "source": [
    "mo_basic14.info()"
   ]
  },
  {
   "cell_type": "markdown",
   "id": "7da7c460-3971-4ccc-bab3-c4882bcfd293",
   "metadata": {},
   "source": [
    "### Make a model using basic and noisy seven"
   ]
  },
  {
   "cell_type": "code",
   "execution_count": 12,
   "id": "b8800fdb-5f49-48b2-8411-a2f259453b0f",
   "metadata": {},
   "outputs": [],
   "source": [
    "noisy14_bos = basic7_bos + fn_bos\n",
    "mo_noisy14 = se.Model(data = noisy14_bos, n_subs = len(noisy14_bos))"
   ]
  },
  {
   "cell_type": "code",
   "execution_count": 27,
   "id": "74bb1cc0-0d73-4f9c-9aaf-be36654fb0c1",
   "metadata": {},
   "outputs": [
    {
     "name": "stdout",
     "output_type": "stream",
     "text": [
      "Number of locations: 281\n",
      "Number of subjects: 14\n",
      "RBF width: 20\n",
      "Date created: Tue Jan 21 11:55:35 2025\n",
      "Meta data: {'stable': True}\n"
     ]
    }
   ],
   "source": [
    "mo_noisy14.info()"
   ]
  },
  {
   "cell_type": "code",
   "execution_count": null,
   "id": "e18084c6-2293-4c0b-9e64-640a39f89067",
   "metadata": {},
   "outputs": [],
   "source": []
  }
 ],
 "metadata": {
  "kernelspec": {
   "display_name": "Python 3 (ipykernel)",
   "language": "python",
   "name": "python3"
  },
  "language_info": {
   "codemirror_mode": {
    "name": "ipython",
    "version": 3
   },
   "file_extension": ".py",
   "mimetype": "text/x-python",
   "name": "python",
   "nbconvert_exporter": "python",
   "pygments_lexer": "ipython3",
   "version": "3.12.8"
  }
 },
 "nbformat": 4,
 "nbformat_minor": 5
}
