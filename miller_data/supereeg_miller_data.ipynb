{
 "cells": [
  {
   "cell_type": "markdown",
   "id": "8dbcbf91-9d00-4f0d-9fd9-6314999180a2",
   "metadata": {},
   "source": [
    "# Load the Miller data into supereeg\n",
    "\n",
    "Import supereeg and helper functions"
   ]
  },
  {
   "cell_type": "code",
   "execution_count": 1,
   "id": "79f8c5b8-456e-4604-bba1-b43bfa9e613d",
   "metadata": {},
   "outputs": [],
   "source": [
    "import supereeg as se\n",
    "import os\n",
    "import numpy as np\n",
    "from scipy.io import loadmat"
   ]
  },
  {
   "cell_type": "markdown",
   "id": "02a592d6-8ea5-48b4-a7e0-066e98602e32",
   "metadata": {},
   "source": [
    "## faces_basic\n",
    "\n",
    "has zeroes in locs\n",
    "\n",
    "throws an error when you try to build the model with the twelfth brain belonging to 'jm'"
   ]
  },
  {
   "cell_type": "code",
   "execution_count": 45,
   "id": "4e599b76-eca1-4bc2-a126-b82c33cc8f19",
   "metadata": {},
   "outputs": [],
   "source": [
    "# load the data\n",
    "data_dir = './faces_basic/data/'\n",
    "data_name = 'faceshouses.mat'\n",
    "locs_dir = './faces_basic/locs/'\n",
    "locs_name = 'xslocs.mat'\n",
    "\n",
    "ids = [x for x in os.listdir(data_dir) if x[0] != '.']\n",
    "\n",
    "data = {f'{x}':loadmat(f\"{data_dir}{x}/{x}_{data_name}\") for x in ids}\n",
    "locs = [loadmat(f\"{locs_dir}{x}_{locs_name}\")['locs'] for x in ids]"
   ]
  },
  {
   "cell_type": "code",
   "execution_count": 46,
   "id": "5646c65c-b53f-4adb-bf0e-62858b8a51ab",
   "metadata": {},
   "outputs": [],
   "source": [
    "# make them into brains\n",
    "bos = [se.Brain(data = data[x]['data'], locs = locs[i], \n",
    "                sample_rate = data[x]['srate']) for i,x in enumerate(ids)]"
   ]
  },
  {
   "cell_type": "code",
   "execution_count": 52,
   "id": "e0df6561-0a93-4d42-bd2e-c2175f181067",
   "metadata": {},
   "outputs": [
    {
     "name": "stdout",
     "output_type": "stream",
     "text": [
      "Number of locations: 541\n",
      "Number of subjects: 13\n",
      "RBF width: 20\n",
      "Date created: Thu Jan 16 17:28:37 2025\n",
      "Meta data: {'stable': True}\n"
     ]
    }
   ],
   "source": [
    "# make a model\n",
    "mo = se.Model(data = bos[:12]+[bos[-1]], n_subs = 13)\n",
    "mo.info()"
   ]
  },
  {
   "cell_type": "markdown",
   "id": "6c8cc63b-5b55-4425-a0b9-8c17610dd316",
   "metadata": {},
   "source": [
    "## faces_noise\n",
    "\n",
    "has zeroes in locs"
   ]
  },
  {
   "cell_type": "code",
   "execution_count": 16,
   "id": "5f5c3b06-0bf8-4722-8499-fe324a83ccba",
   "metadata": {},
   "outputs": [],
   "source": [
    "# load the data\n",
    "data_dir = './faces_noise/data/'\n",
    "data_name = 'faceshouses.mat'\n",
    "locs_dir = './faces_noise/locs/'\n",
    "locs_name = 'xslocs.mat'\n",
    "\n",
    "ids = [x for x in os.listdir(data_dir) if x[0] != '.']\n",
    "\n",
    "data = {f'{x}':loadmat(f\"{data_dir}{x}/{x}_{data_name}\") for x in ids}\n",
    "locs = [loadmat(f\"{locs_dir}{x}_{locs_name}\")['locs'] for x in ids]"
   ]
  },
  {
   "cell_type": "code",
   "execution_count": 17,
   "id": "57769425-d730-4783-b208-2d5c643c551c",
   "metadata": {},
   "outputs": [],
   "source": [
    "# make them into brains\n",
    "bos = [se.Brain(data = data[x]['data'], locs = locs[i], \n",
    "                sample_rate = data[x]['srate']) for i,x in enumerate(ids)]"
   ]
  },
  {
   "cell_type": "code",
   "execution_count": 18,
   "id": "9cd4711c-91c5-439b-a0e6-c50fdb95fb85",
   "metadata": {},
   "outputs": [
    {
     "name": "stdout",
     "output_type": "stream",
     "text": [
      "Number of locations: 280\n",
      "Number of subjects: 7\n",
      "RBF width: 20\n",
      "Date created: Thu Jan 16 16:58:47 2025\n",
      "Meta data: {'stable': True}\n"
     ]
    }
   ],
   "source": [
    "# make a model\n",
    "n_subs = len(ids)\n",
    "mo = se.Model(data = bos[0:n_subs], n_subs = n_subs)\n",
    "mo.info()"
   ]
  },
  {
   "cell_type": "markdown",
   "id": "2ce4671e-c2a9-47c6-a3ab-d204d992ab7c",
   "metadata": {},
   "source": [
    "## fingerflex\n",
    "\n",
    "no zeroes in locs"
   ]
  },
  {
   "cell_type": "code",
   "execution_count": 19,
   "id": "32199232-3038-42b2-8733-29f1ee0d0df7",
   "metadata": {},
   "outputs": [],
   "source": [
    "# load the data\n",
    "data_dir = './fingerflex/data/'\n",
    "data_name = 'fingerflex.mat'\n",
    "\n",
    "ids = [x for x in os.listdir(data_dir) if x[0] != '.']\n",
    "\n",
    "data = {f'{x}':loadmat(f\"{data_dir}{x}/{x}_{data_name}\") for x in ids}"
   ]
  },
  {
   "cell_type": "code",
   "execution_count": 20,
   "id": "a456c67a-e597-41bc-bb17-ca5582939f0b",
   "metadata": {},
   "outputs": [],
   "source": [
    "# make them into brains\n",
    "bos = [se.Brain(data = data[x]['data'], locs = data[x]['locs'], \n",
    "                sample_rate = 1000) for i,x in enumerate(ids)]"
   ]
  },
  {
   "cell_type": "code",
   "execution_count": 28,
   "id": "3abef3a1-c5f3-417e-b890-61eabdb43ac7",
   "metadata": {},
   "outputs": [
    {
     "name": "stdout",
     "output_type": "stream",
     "text": [
      "Number of locations: 472\n",
      "Number of subjects: 9\n",
      "RBF width: 20\n",
      "Date created: Thu Jan 16 17:01:28 2025\n",
      "Meta data: {'stable': True}\n"
     ]
    }
   ],
   "source": [
    "# make a model\n",
    "n_subs = len(ids)\n",
    "mo = se.Model(data = bos[0:n_subs], n_subs = n_subs)\n",
    "mo.info()"
   ]
  },
  {
   "cell_type": "markdown",
   "id": "dabb0724-0b6d-4920-8ece-2ec51889f579",
   "metadata": {},
   "source": [
    "## fixation_PAC\n",
    "\n",
    "no zeroes in locs"
   ]
  },
  {
   "cell_type": "code",
   "execution_count": 32,
   "id": "072dc906-d323-4d92-b65c-7b2b5ce71f44",
   "metadata": {},
   "outputs": [],
   "source": [
    "# load the data\n",
    "data_dir = './fixation_PAC/data/'\n",
    "data_name = 'base.mat'\n",
    "\n",
    "ids = [x for x in os.listdir(data_dir) if x[0] != '.']\n",
    "\n",
    "data = {f'{x}':loadmat(f\"{data_dir}{x}/{x}_{data_name}\") for x in ids}"
   ]
  },
  {
   "cell_type": "code",
   "execution_count": 34,
   "id": "002a2412-b938-410d-b51a-7505e82e13b5",
   "metadata": {},
   "outputs": [],
   "source": [
    "# make them into brains\n",
    "bos = [se.Brain(data = data[x]['data'], locs = data[x]['locs'], \n",
    "                sample_rate = 1000) for i,x in enumerate(ids)]"
   ]
  },
  {
   "cell_type": "code",
   "execution_count": 35,
   "id": "38ee9400-2db3-40e8-9a49-0d5099e5cdc2",
   "metadata": {},
   "outputs": [
    {
     "name": "stdout",
     "output_type": "stream",
     "text": [
      "Number of locations: 531\n",
      "Number of subjects: 10\n",
      "RBF width: 20\n",
      "Date created: Thu Jan 16 17:09:54 2025\n",
      "Meta data: {'stable': True}\n"
     ]
    }
   ],
   "source": [
    "# make a model\n",
    "n_subs = len(ids)\n",
    "mo = se.Model(data = bos[0:n_subs], n_subs = n_subs)\n",
    "mo.info()"
   ]
  },
  {
   "cell_type": "markdown",
   "id": "b8fa7df2-4eb3-411a-af1f-9eba0db3efce",
   "metadata": {},
   "source": [
    "## fixation_pwrlaw\n",
    "\n",
    "no zeroes in locs"
   ]
  },
  {
   "cell_type": "code",
   "execution_count": 58,
   "id": "9c596461-72ea-4032-9030-2c8762be0025",
   "metadata": {},
   "outputs": [],
   "source": [
    "# load the data\n",
    "data_dir = './fixation_pwrlaw/data/'\n",
    "data_name = 'base.mat'\n",
    "\n",
    "ids = [x[:2] for x in os.listdir(data_dir) if x[0] != '.']\n",
    "\n",
    "data = {f'{x}':loadmat(f\"{data_dir}{x}_{data_name}\") for x in ids}"
   ]
  },
  {
   "cell_type": "code",
   "execution_count": 60,
   "id": "1bd0b31d-e9f7-4267-9c33-80c55ccfdc8d",
   "metadata": {},
   "outputs": [],
   "source": [
    "# make them into brains\n",
    "bos = [se.Brain(data = data[x]['data'], locs = data[x]['locs'], \n",
    "                sample_rate = 1000) for i,x in enumerate(ids)]"
   ]
  },
  {
   "cell_type": "code",
   "execution_count": 61,
   "id": "13f051be-15ab-4fb6-a999-b2b29af4a39e",
   "metadata": {},
   "outputs": [
    {
     "name": "stdout",
     "output_type": "stream",
     "text": [
      "Number of locations: 1128\n",
      "Number of subjects: 20\n",
      "RBF width: 20\n",
      "Date created: Thu Jan 16 17:35:58 2025\n",
      "Meta data: {'stable': True}\n"
     ]
    }
   ],
   "source": [
    "# make a model\n",
    "n_subs = len(ids)\n",
    "mo = se.Model(data = bos[0:n_subs], n_subs = n_subs)\n",
    "mo.info()"
   ]
  }
 ],
 "metadata": {
  "kernelspec": {
   "display_name": "Python 3 (ipykernel)",
   "language": "python",
   "name": "python3"
  },
  "language_info": {
   "codemirror_mode": {
    "name": "ipython",
    "version": 3
   },
   "file_extension": ".py",
   "mimetype": "text/x-python",
   "name": "python",
   "nbconvert_exporter": "python",
   "pygments_lexer": "ipython3",
   "version": "3.12.8"
  }
 },
 "nbformat": 4,
 "nbformat_minor": 5
}
