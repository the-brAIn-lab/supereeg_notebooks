{
 "cells": [
  {
   "cell_type": "markdown",
   "id": "54b29247-29ad-4528-bb90-5b1ce1467da9",
   "metadata": {},
   "source": [
    "# Working with NIfTI images\n",
    "\n",
    "This page describes some features of the nibabel implementation of the NIfTI format. Generally all these features apply equally to the NIfTI 1 and the NIfTI 2 format, but we will note the differences when they come up. NIfTI 1 is much more common than NIfTI 2."
   ]
  },
  {
   "cell_type": "markdown",
   "id": "3135833a-7547-47e3-ad31-2d2d4d8894e5",
   "metadata": {},
   "source": [
    "## Preliminaries\n",
    "\n",
    "We first set some display parameters to print out numpy arrays in a compact form:"
   ]
  },
  {
   "cell_type": "code",
   "execution_count": 1,
   "id": "a7996f7c-48c8-4f24-8885-1ac70afcb027",
   "metadata": {},
   "outputs": [],
   "source": [
    "import numpy as np\n",
    "# Set numpy to print only 2 decimal digits for neatness\n",
    "np.set_printoptions(precision=2, suppress=True)"
   ]
  },
  {
   "cell_type": "markdown",
   "id": "c12f3f53-97a9-4eed-af3a-1cf77995a35c",
   "metadata": {},
   "source": [
    "## Example NIfTI images"
   ]
  },
  {
   "cell_type": "code",
   "execution_count": 2,
   "id": "0c32e5b1-49c2-468a-9dc7-53c31dacc6c1",
   "metadata": {},
   "outputs": [],
   "source": [
    "import os\n",
    "import nibabel as nib\n",
    "from nibabel.testing import data_path"
   ]
  },
  {
   "cell_type": "markdown",
   "id": "a7d2cc6a-543b-44b4-bd70-e80513dfbf30",
   "metadata": {},
   "source": [
    "This is the example NIfTI 1 image:"
   ]
  },
  {
   "cell_type": "code",
   "execution_count": 3,
   "id": "9e251198-21bd-4104-b438-f09f96ef0700",
   "metadata": {},
   "outputs": [
    {
     "data": {
      "text/plain": [
       "<nibabel.nifti1.Nifti1Image at 0x7f6082e9dfd0>"
      ]
     },
     "execution_count": 3,
     "metadata": {},
     "output_type": "execute_result"
    }
   ],
   "source": [
    "example_ni1 = os.path.join(data_path, 'example4d.nii.gz')\n",
    "n1_img = nib.load(example_ni1)\n",
    "n1_img"
   ]
  },
  {
   "cell_type": "markdown",
   "id": "8d64a396-2a6d-4d23-a7fe-0090ebe630bd",
   "metadata": {},
   "source": [
    "Here is the NIfTI 2 example image:"
   ]
  },
  {
   "cell_type": "code",
   "execution_count": 4,
   "id": "4631bad1-19e6-4e3c-9a85-9fc85706c026",
   "metadata": {},
   "outputs": [
    {
     "data": {
      "text/plain": [
       "<nibabel.nifti2.Nifti2Image at 0x7f60aa949dc0>"
      ]
     },
     "execution_count": 4,
     "metadata": {},
     "output_type": "execute_result"
    }
   ],
   "source": [
    "example_ni2 = os.path.join(data_path, 'example_nifti2.nii.gz')\n",
    "n2_img = nib.load(example_ni2)\n",
    "n2_img"
   ]
  },
  {
   "cell_type": "markdown",
   "id": "375ab6ea-74dd-457f-a194-1adb8c72b4de",
   "metadata": {},
   "source": [
    "## The NIfTI header\n",
    "\n",
    "The NIfTI 1 header is a small C structure of size 352 bytes. It contains the following fields:"
   ]
  },
  {
   "cell_type": "code",
   "execution_count": 5,
   "id": "a04cb623-b766-4a28-b617-38039c6a7a00",
   "metadata": {},
   "outputs": [
    {
     "name": "stdout",
     "output_type": "stream",
     "text": [
      "<class 'nibabel.nifti1.Nifti1Header'> object, endian='<'\n",
      "sizeof_hdr      : 348\n",
      "data_type       : b''\n",
      "db_name         : b''\n",
      "extents         : 0\n",
      "session_error   : 0\n",
      "regular         : b'r'\n",
      "dim_info        : 57\n",
      "dim             : [  4 128  96  24   2   1   1   1]\n",
      "intent_p1       : 0.0\n",
      "intent_p2       : 0.0\n",
      "intent_p3       : 0.0\n",
      "intent_code     : none\n",
      "datatype        : int16\n",
      "bitpix          : 16\n",
      "slice_start     : 0\n",
      "pixdim          : [  -1.     2.     2.     2.2 2000.     1.     1.     1. ]\n",
      "vox_offset      : 0.0\n",
      "scl_slope       : nan\n",
      "scl_inter       : nan\n",
      "slice_end       : 23\n",
      "slice_code      : unknown\n",
      "xyzt_units      : 10\n",
      "cal_max         : 1162.0\n",
      "cal_min         : 0.0\n",
      "slice_duration  : 0.0\n",
      "toffset         : 0.0\n",
      "glmax           : 0\n",
      "glmin           : 0\n",
      "descrip         : b'FSL3.3\\x00 v2.25 NIfTI-1 Single file format'\n",
      "aux_file        : b''\n",
      "qform_code      : scanner\n",
      "sform_code      : scanner\n",
      "quatern_b       : -1.9451068e-26\n",
      "quatern_c       : -0.9967085\n",
      "quatern_d       : -0.08106874\n",
      "qoffset_x       : 117.8551\n",
      "qoffset_y       : -35.722942\n",
      "qoffset_z       : -7.2487984\n",
      "srow_x          : [ -2.     0.     0.   117.86]\n",
      "srow_y          : [ -0.     1.97  -0.36 -35.72]\n",
      "srow_z          : [ 0.    0.32  2.17 -7.25]\n",
      "intent_name     : b''\n",
      "magic           : b'n+1'\n"
     ]
    }
   ],
   "source": [
    "n1_header = n1_img.header\n",
    "print(n1_header)"
   ]
  },
  {
   "cell_type": "markdown",
   "id": "5c65dfd0-f187-4975-8a26-4272f11d5e13",
   "metadata": {},
   "source": [
    "The NIfTI 2 header is similar, but of length 540 bytes, with fewer fields:"
   ]
  },
  {
   "cell_type": "code",
   "execution_count": 6,
   "id": "1a58488d-0910-43bc-8da2-41ad8241c213",
   "metadata": {},
   "outputs": [
    {
     "name": "stdout",
     "output_type": "stream",
     "text": [
      "<class 'nibabel.nifti2.Nifti2Header'> object, endian='<'\n",
      "sizeof_hdr      : 540\n",
      "magic           : b'n+2'\n",
      "eol_check       : [13 10 26 10]\n",
      "datatype        : int16\n",
      "bitpix          : 16\n",
      "dim             : [ 4 32 20 12  2  1  1  1]\n",
      "intent_p1       : 0.0\n",
      "intent_p2       : 0.0\n",
      "intent_p3       : 0.0\n",
      "pixdim          : [  -1.     2.     2.     2.2 2000.     1.     1.     1. ]\n",
      "vox_offset      : 0\n",
      "scl_slope       : nan\n",
      "scl_inter       : nan\n",
      "cal_max         : 1162.0\n",
      "cal_min         : 0.0\n",
      "slice_duration  : 0.0\n",
      "toffset         : 0.0\n",
      "slice_start     : 0\n",
      "slice_end       : 23\n",
      "descrip         : b'FSL3.3\\x00 v2.25 NIfTI-1 Single file format'\n",
      "aux_file        : b''\n",
      "qform_code      : scanner\n",
      "sform_code      : scanner\n",
      "quatern_b       : -1.9451068140294884e-26\n",
      "quatern_c       : -0.9967085123062134\n",
      "quatern_d       : -0.0810687392950058\n",
      "qoffset_x       : 117.8551025390625\n",
      "qoffset_y       : -35.72294235229492\n",
      "qoffset_z       : -7.248798370361328\n",
      "srow_x          : [ -2.     0.     0.   117.86]\n",
      "srow_y          : [ -0.     1.97  -0.36 -35.72]\n",
      "srow_z          : [ 0.    0.32  2.17 -7.25]\n",
      "slice_code      : unknown\n",
      "xyzt_units      : 10\n",
      "intent_code     : none\n",
      "intent_name     : b''\n",
      "dim_info        : 57\n",
      "unused_str      : b''\n"
     ]
    }
   ],
   "source": [
    "n2_header = n2_img.header\n",
    "print(n2_header)"
   ]
  },
  {
   "cell_type": "markdown",
   "id": "eb210a77-2e8b-47e7-b178-8aa632e84b6b",
   "metadata": {},
   "source": [
    "You can get and set individual fields in the header using dict (mapping-type) item access. For example:"
   ]
  },
  {
   "cell_type": "code",
   "execution_count": 7,
   "id": "69646747-815a-4f4a-baa3-4fab3c3f4a5f",
   "metadata": {},
   "outputs": [
    {
     "data": {
      "text/plain": [
       "array(1162., dtype=float32)"
      ]
     },
     "execution_count": 7,
     "metadata": {},
     "output_type": "execute_result"
    }
   ],
   "source": [
    "n1_header['cal_max']"
   ]
  },
  {
   "cell_type": "code",
   "execution_count": 8,
   "id": "db3a1e49-77b0-46b2-baba-28130572320a",
   "metadata": {},
   "outputs": [
    {
     "data": {
      "text/plain": [
       "array(1200., dtype=float32)"
      ]
     },
     "execution_count": 8,
     "metadata": {},
     "output_type": "execute_result"
    }
   ],
   "source": [
    "n1_header['cal_max'] = 1200\n",
    "n1_header['cal_max']"
   ]
  },
  {
   "cell_type": "markdown",
   "id": "60625bf7-532f-4e32-a7d6-728afcdbb51d",
   "metadata": {},
   "source": [
    "Check the attributes of the header for ```get_``` / ```set_``` methods to get and set various combinations of NIfTI header fields.\n",
    "\n",
    "The ```get_``` / ```set_``` methods should check and apply valid combinations of values from the header, whereas you can do anything you like with the dict / mapping item access. It is safer to use the ```get_``` / ```set_``` methods and use the mapping item access only if the ```get_``` / ```set_``` methods will not do what you want."
   ]
  },
  {
   "cell_type": "markdown",
   "id": "cce4ceb1-d558-45b7-ba1e-a7657be1f0f3",
   "metadata": {},
   "source": [
    "## The NIfTI affines\n",
    "\n",
    "Like other nibabel image types, NIfTI images have an affine relating the voxel coordinates to world coordinates in RAS+ space:"
   ]
  },
  {
   "cell_type": "code",
   "execution_count": 9,
   "id": "bd2612dc-a142-4b08-8406-7a34307d58bd",
   "metadata": {},
   "outputs": [
    {
     "data": {
      "text/plain": [
       "array([[ -2.  ,   0.  ,   0.  , 117.86],\n",
       "       [ -0.  ,   1.97,  -0.36, -35.72],\n",
       "       [  0.  ,   0.32,   2.17,  -7.25],\n",
       "       [  0.  ,   0.  ,   0.  ,   1.  ]])"
      ]
     },
     "execution_count": 9,
     "metadata": {},
     "output_type": "execute_result"
    }
   ],
   "source": [
    "n1_img.affine"
   ]
  },
  {
   "cell_type": "markdown",
   "id": "484b22cf-7c33-4047-a94e-d24f026bece6",
   "metadata": {},
   "source": [
    "Unlike other formats, the NIfTI header format can specify this affine in one of three ways — the *sform* affine, the *qform* affine and the *fall-back header* affine.\n",
    "\n",
    "Nibabel uses an [algorithm](https://nipy.org/nibabel/nifti_images.html#choosing-image-affine) to chose which of these three it will use for the overall image ```affine```.\n",
    "\n",
    "### The sform affine\n",
    "\n",
    "The header stores the three first rows of the 4 by 4 affine in the header fields ```srow_x```, ```srow_y```, ```srow_z```. The header does not store the fourth row because it is always ```[0, 0, 0, 1]``` (see [Coordinate systems and affines](https://nipy.org/nibabel/coordinate_systems.html).)\n",
    "\n",
    "You can get the sform affine specifically with the ```get_sform()``` method of the image or the header.\n",
    "\n",
    "For example:"
   ]
  },
  {
   "cell_type": "code",
   "execution_count": 10,
   "id": "85a214d3-0e72-4790-977b-8cf3f9fb7893",
   "metadata": {},
   "outputs": [
    {
     "name": "stdout",
     "output_type": "stream",
     "text": [
      "[ -2.     0.     0.   117.86]\n"
     ]
    }
   ],
   "source": [
    "print(n1_header['srow_x'])"
   ]
  },
  {
   "cell_type": "code",
   "execution_count": 11,
   "id": "b5db3ce1-b637-4a32-a44f-e90cc7bf8e9d",
   "metadata": {},
   "outputs": [
    {
     "name": "stdout",
     "output_type": "stream",
     "text": [
      "[ -0.     1.97  -0.36 -35.72]\n"
     ]
    }
   ],
   "source": [
    "print(n1_header['srow_y'])"
   ]
  },
  {
   "cell_type": "code",
   "execution_count": 12,
   "id": "77abb6f6-d27c-4f88-ae7c-adab5c7a9535",
   "metadata": {},
   "outputs": [
    {
     "name": "stdout",
     "output_type": "stream",
     "text": [
      "[ 0.    0.32  2.17 -7.25]\n"
     ]
    }
   ],
   "source": [
    "print(n1_header['srow_z'])"
   ]
  },
  {
   "cell_type": "code",
   "execution_count": 13,
   "id": "ee3b55bd-9aa1-4cd3-bdb4-1a4d4514bd23",
   "metadata": {},
   "outputs": [
    {
     "name": "stdout",
     "output_type": "stream",
     "text": [
      "[[ -2.     0.     0.   117.86]\n",
      " [ -0.     1.97  -0.36 -35.72]\n",
      " [  0.     0.32   2.17  -7.25]\n",
      " [  0.     0.     0.     1.  ]]\n"
     ]
    }
   ],
   "source": [
    "print(n1_header.get_sform())"
   ]
  },
  {
   "cell_type": "markdown",
   "id": "f146f2c6-cb4f-4f12-b886-b28183722310",
   "metadata": {},
   "source": [
    "This affine is valid only if the ```sform_code``` is not zero."
   ]
  },
  {
   "cell_type": "code",
   "execution_count": 14,
   "id": "60e8a9cc-94ed-4c82-ad24-7c11c337c593",
   "metadata": {},
   "outputs": [
    {
     "name": "stdout",
     "output_type": "stream",
     "text": [
      "1\n"
     ]
    }
   ],
   "source": [
    "print(n1_header['sform_code'])"
   ]
  },
  {
   "cell_type": "markdown",
   "id": "35acee44-8306-4ccc-81b8-bf9f6c3abb6d",
   "metadata": {},
   "source": [
    "The different sform code values specify which RAS+ space the sform affine refers to, with these interpretations:\n",
    "\n",
    "| Code | Label | Meaning |\n",
    "|:----|:---|:---|\n",
    "| 0 | unknown | sform not defined |\n",
    "| 1 | scanner | RAS+ in scanner coordinates |\n",
    "| 2 | aligned | RAS+ aligned to some other scan |\n",
    "| 3 | talairach | RAS+ in Talairach atlas space |\n",
    "| 4 | mni | RAS+ in MNI atlas space |\n",
    "\n",
    "In our case the code is 1, meaning “scanner” alignment.\n",
    "\n",
    "You can get the affine and the code using the ```coded=True``` argument to ```get_sform()```:"
   ]
  },
  {
   "cell_type": "code",
   "execution_count": 15,
   "id": "6922fed0-48ca-4223-8c62-6fae661db1de",
   "metadata": {},
   "outputs": [
    {
     "name": "stdout",
     "output_type": "stream",
     "text": [
      "(array([[ -2.  ,   0.  ,   0.  , 117.86],\n",
      "       [ -0.  ,   1.97,  -0.36, -35.72],\n",
      "       [  0.  ,   0.32,   2.17,  -7.25],\n",
      "       [  0.  ,   0.  ,   0.  ,   1.  ]]), 1)\n"
     ]
    }
   ],
   "source": [
    "print(n1_header.get_sform(coded=True))"
   ]
  },
  {
   "cell_type": "markdown",
   "id": "6f185a93-68b4-40e4-abf0-17cd68b6c621",
   "metadata": {},
   "source": [
    "You can set the sform with the ```set_sform()``` method of the header and the image."
   ]
  },
  {
   "cell_type": "code",
   "execution_count": 16,
   "id": "b9ee315c-2d26-4891-8239-3e458025ff3c",
   "metadata": {},
   "outputs": [
    {
     "data": {
      "text/plain": [
       "array([[2., 0., 0., 0.],\n",
       "       [0., 3., 0., 0.],\n",
       "       [0., 0., 4., 0.],\n",
       "       [0., 0., 0., 1.]])"
      ]
     },
     "execution_count": 16,
     "metadata": {},
     "output_type": "execute_result"
    }
   ],
   "source": [
    "n1_header.set_sform(np.diag([2, 3, 4, 1]))\n",
    "n1_header.get_sform()"
   ]
  },
  {
   "cell_type": "markdown",
   "id": "a0500f09-2c73-4642-b001-da87f1c24493",
   "metadata": {},
   "source": [
    "Set the affine and code using the ```code``` parameter to ```set_sform()```:"
   ]
  },
  {
   "cell_type": "code",
   "execution_count": 17,
   "id": "d6e3cdfe-e972-471c-896f-e50c97d3e753",
   "metadata": {},
   "outputs": [
    {
     "data": {
      "text/plain": [
       "(array([[3., 0., 0., 0.],\n",
       "        [0., 4., 0., 0.],\n",
       "        [0., 0., 5., 0.],\n",
       "        [0., 0., 0., 1.]]),\n",
       " 4)"
      ]
     },
     "execution_count": 17,
     "metadata": {},
     "output_type": "execute_result"
    }
   ],
   "source": [
    "n1_header.set_sform(np.diag([3, 4, 5, 1]), code='mni')\n",
    "n1_header.get_sform(coded=True)"
   ]
  },
  {
   "cell_type": "markdown",
   "id": "f168cf4f-06b2-4b72-b1e9-4b8dc9e5ef07",
   "metadata": {},
   "source": [
    "### The qform affine\n",
    "\n",
    "This affine can be calculated from a combination of the voxel sizes (entries 1 through 4 of the ```pixdim``` field), a sign flip called ```qfac``` stored in entry 0 of ```pixdim```, and a [quaternion](https://en.wikipedia.org/wiki/Quaternion) that can be reconstructed from fields ```quatern_b```, ```quatern_c```, ```quatern_d```."
   ]
  },
  {
   "cell_type": "code",
   "execution_count": 18,
   "id": "d05e3a98-5689-4a7c-a6a7-96dcee51592d",
   "metadata": {},
   "outputs": [
    {
     "data": {
      "text/plain": [
       "(array([[ -2.  ,   0.  ,  -0.  , 117.86],\n",
       "        [  0.  ,   1.97,  -0.36, -35.72],\n",
       "        [  0.  ,   0.32,   2.17,  -7.25],\n",
       "        [  0.  ,   0.  ,   0.  ,   1.  ]]),\n",
       " 1)"
      ]
     },
     "execution_count": 18,
     "metadata": {},
     "output_type": "execute_result"
    }
   ],
   "source": [
    "n1_header.get_qform(coded=True)"
   ]
  },
  {
   "cell_type": "markdown",
   "id": "05f21ffd-0825-4d05-9578-7f0290e48bd9",
   "metadata": {},
   "source": [
    "The qform also has a corresponding ```qform_code``` with the same interpretation as the *sform_code*.\n",
    "\n",
    "### The fall-back header affine\n",
    "\n",
    "This is the affine of last resort, constructed only from the ```pixdim``` voxel sizes. The [NIfTI specification](https://nipy.org/nibabel/nifti1) says that this should set the first voxel in the image as [0, 0, 0] in world coordinates, but we nibabblers follow [SPM](http://www.fil.ion.ucl.ac.uk/spm) in preferring to set the central voxel to have [0, 0, 0] world coordinate. The NIfTI spec also implies that the image should be assumed to be in RAS+ voxel orientation for this affine (see [Coordinate systems and affines](https://nipy.org/nibabel/coordinate_systems.html)). Again like SPM, we prefer to assume LAS+ voxel orientation by default.\n",
    "\n",
    "You can always get the fall-back affine with ```get_base_affine()```:"
   ]
  },
  {
   "cell_type": "code",
   "execution_count": 19,
   "id": "ca569226-be0d-4a2f-8e9b-5ae7826a83b6",
   "metadata": {},
   "outputs": [
    {
     "data": {
      "text/plain": [
       "array([[ -2. ,   0. ,   0. , 127. ],\n",
       "       [  0. ,   2. ,   0. , -95. ],\n",
       "       [  0. ,   0. ,   2.2, -25.3],\n",
       "       [  0. ,   0. ,   0. ,   1. ]])"
      ]
     },
     "execution_count": 19,
     "metadata": {},
     "output_type": "execute_result"
    }
   ],
   "source": [
    "n1_header.get_base_affine()"
   ]
  },
  {
   "cell_type": "markdown",
   "id": "228a68a8-ffc6-4b51-82d7-f01bde8b1071",
   "metadata": {},
   "source": [
    "### Choosing the image affine\n",
    "\n",
    "Given there are three possible affines defined in the NIfTI header, nibabel has to chose which of these to use for the image ```affine```.\n",
    "\n",
    "The algorithm is defined in the ```get_best_affine()``` method. It is:\n",
    "\n",
    "1. If ```sform_code``` != 0 (‘unknown’) use the sform affine; else\n",
    "2. If ```qform_code``` != 0 (‘unknown’) use the qform affine; else\n",
    "3. Use the fall-back affine.\n",
    "\n",
    "### Default sform and qform codes\n",
    "\n",
    "If you create a new image, e.g.:"
   ]
  },
  {
   "cell_type": "code",
   "execution_count": 20,
   "id": "c8a0d627-5b23-4c58-9236-ffa3f4f047bb",
   "metadata": {},
   "outputs": [],
   "source": [
    "data = np.random.random((20, 20, 20))\n",
    "xform = np.eye(4) * 2\n",
    "img = nib.nifti1.Nifti1Image(data, xform)"
   ]
  },
  {
   "cell_type": "markdown",
   "id": "0a157ec3-9c23-4364-93a0-3b10065bcb94",
   "metadata": {},
   "source": [
    "The sform and qform codes will be initialised to 2 (aligned) and 0 (unknown) respectively:"
   ]
  },
  {
   "cell_type": "code",
   "execution_count": 21,
   "id": "dfbf11e3-a922-4f22-b595-35d79a25d257",
   "metadata": {},
   "outputs": [
    {
     "data": {
      "text/plain": [
       "(array([[2., 0., 0., 0.],\n",
       "        [0., 2., 0., 0.],\n",
       "        [0., 0., 2., 0.],\n",
       "        [0., 0., 0., 1.]]),\n",
       " 2)"
      ]
     },
     "execution_count": 21,
     "metadata": {},
     "output_type": "execute_result"
    }
   ],
   "source": [
    "img.get_sform(coded=True) "
   ]
  },
  {
   "cell_type": "code",
   "execution_count": 22,
   "id": "0f7f50cf-5ea6-4055-b1fa-2e255f485e9d",
   "metadata": {},
   "outputs": [
    {
     "data": {
      "text/plain": [
       "(None, 0)"
      ]
     },
     "execution_count": 22,
     "metadata": {},
     "output_type": "execute_result"
    }
   ],
   "source": [
    "img.get_qform(coded=True)"
   ]
  },
  {
   "cell_type": "markdown",
   "id": "78843d56-ae9e-4ce0-bddb-262e0dfed8c9",
   "metadata": {},
   "source": [
    "This is based on the assumption that the affine you specify for a newly created image will align the image to some known coordinate system. According to the [NIfTI specification](https://nipy.org/nibabel/nifti1), the qform is intended to encode a transformation into scanner coordinates - for a programmatically created image, we have no way of knowing what the scanner coordinate system is; furthermore, the qform cannot be used to store an arbitrary affine transform, as it is unable to encode shears. So the provided affine will be stored in the sform, and the qform will be left uninitialised.\n",
    "\n",
    "If you create a new image and specify an existing header, e.g.:"
   ]
  },
  {
   "cell_type": "code",
   "execution_count": 23,
   "id": "98d75a68-673b-41a4-acba-28207366ce61",
   "metadata": {},
   "outputs": [],
   "source": [
    "example_ni1 = os.path.join(data_path, 'example4d.nii.gz')\n",
    "n1_img = nib.load(example_ni1)\n",
    "new_header = header=n1_img.header.copy()\n",
    "new_data = np.random.random(n1_img.shape[:3])\n",
    "new_img = nib.nifti1.Nifti1Image(data, None, header=new_header)"
   ]
  },
  {
   "cell_type": "markdown",
   "id": "bc943f8a-0025-4273-892e-5e6d4c0445ad",
   "metadata": {},
   "source": [
    "then the newly created image will inherit the same sform and qform codes that are in the provided header. However, if you create a new image with both an affine and a header specified, e.g.:"
   ]
  },
  {
   "cell_type": "code",
   "execution_count": 24,
   "id": "b0ceda55-0c01-4421-86dc-b5c17d46d05c",
   "metadata": {},
   "outputs": [],
   "source": [
    "xform = np.eye(4)\n",
    "new_img = nib.nifti1.Nifti1Image(data, xform, header=new_header)"
   ]
  },
  {
   "cell_type": "markdown",
   "id": "d217bcf1-ea77-4a11-9579-f34baef67488",
   "metadata": {},
   "source": [
    "then the sform and qform codes will only be preserved if the provided affine is the same as the affine in the provided header. If the affines do not match, the sform and qform codes will be set to their default values of 2 and 0 respectively. This is done on the basis that, if you are changing the affine, you are likely to be changing the space to which the affine is pointing. So the original sform and qform codes can no longer be assumed to be valid.\n",
    "\n",
    "If you wish to set the sform and qform affines and/or codes to some other value, you can always set them after creation using the ```set_sform``` and ```set_qform``` methods, as described above.\n",
    "\n",
    "## Data scaling\n",
    "\n",
    "NIfTI uses a simple scheme for data scaling.\n",
    "\n",
    "By default, nibabel will take care of this scaling for you, but there may be times that you want to control the data scaling yourself. If so, the next section describes how the scaling works and the nibabel implementation of same.\n",
    "\n",
    "There are two scaling fields in the header called ```scl_slope``` and ```scl_inter```.\n",
    "\n",
    "The output data from a NIfTI image comes from:\n",
    "\n",
    "1. Loading the binary data from the image file;\n",
    "2. Casting the numbers to the binary format given in the header and returned by ```get_data_dtype()```;\n",
    "3. Reshaping to the output image shape;\n",
    "4. Multiplying the result by the header ```scl_slope``` value, if both of ```scl_slope``` and ```scl_inter``` are defined;\n",
    "5. Adding the value header ```scl_inter``` value to the result, if both of ```scl_slope``` and ```scl_inter``` are defined;\n",
    "\n",
    "‘Defined’ means, the value is not NaN (not a number).\n",
    "\n",
    "All this gets built into the array proxy when you load a NIfTI image.\n",
    "\n",
    "When you load an image, the header scaling values automatically get set to NaN (undefined) to mark the fact that the scaling values have been consumed by the read. The scaling values read from the header on load only appear in the array proxy object.\n",
    "\n",
    "To see how this works, let’s make a new image with some scaling:"
   ]
  },
  {
   "cell_type": "code",
   "execution_count": 25,
   "id": "9e4ae81e-cdf9-4db9-bfad-d4088c197d79",
   "metadata": {},
   "outputs": [],
   "source": [
    "array_data = np.arange(24, dtype=np.int16).reshape((2, 3, 4))\n",
    "affine = np.diag([1, 2, 3, 1])\n",
    "array_img = nib.Nifti1Image(array_data, affine)\n",
    "array_header = array_img.header"
   ]
  },
  {
   "cell_type": "markdown",
   "id": "49eaf74b-49cd-4884-a7ff-b82be4751d05",
   "metadata": {},
   "source": [
    "The default scaling values are NaN (undefined):"
   ]
  },
  {
   "cell_type": "code",
   "execution_count": 26,
   "id": "1d32e854-02fb-4f77-a778-75daf5a93906",
   "metadata": {},
   "outputs": [
    {
     "data": {
      "text/plain": [
       "array(nan, dtype=float32)"
      ]
     },
     "execution_count": 26,
     "metadata": {},
     "output_type": "execute_result"
    }
   ],
   "source": [
    "array_header['scl_slope']"
   ]
  },
  {
   "cell_type": "code",
   "execution_count": 27,
   "id": "68277ea3-2224-42b7-b707-0be76fb4b381",
   "metadata": {},
   "outputs": [
    {
     "data": {
      "text/plain": [
       "array(nan, dtype=float32)"
      ]
     },
     "execution_count": 27,
     "metadata": {},
     "output_type": "execute_result"
    }
   ],
   "source": [
    "array_header['scl_inter']"
   ]
  },
  {
   "cell_type": "markdown",
   "id": "ae12b4d9-ec67-43fe-b0c4-22671ecb6a47",
   "metadata": {},
   "source": [
    "You can get the scaling values with the ```get_slope_inter()``` method:"
   ]
  },
  {
   "cell_type": "code",
   "execution_count": 28,
   "id": "ccdc9a9c-6559-4053-80e2-7f4a618d1541",
   "metadata": {},
   "outputs": [
    {
     "data": {
      "text/plain": [
       "(None, None)"
      ]
     },
     "execution_count": 28,
     "metadata": {},
     "output_type": "execute_result"
    }
   ],
   "source": [
    "array_header.get_slope_inter()"
   ]
  },
  {
   "cell_type": "markdown",
   "id": "b6575979-0869-49d6-9e78-f944865eabcf",
   "metadata": {},
   "source": [
    "None corresponds to the NaN scaling value (undefined).\n",
    "\n",
    "We can set them in the image header, so they get saved to the header when the image is written. We can do this by setting the fields directly, or with ```set_slope_inter()```:"
   ]
  },
  {
   "cell_type": "code",
   "execution_count": 29,
   "id": "da26d037-74f5-43dd-841f-cab68395f11b",
   "metadata": {},
   "outputs": [
    {
     "data": {
      "text/plain": [
       "(2.0, 10.0)"
      ]
     },
     "execution_count": 29,
     "metadata": {},
     "output_type": "execute_result"
    }
   ],
   "source": [
    "array_header.set_slope_inter(2, 10)\n",
    "array_header.get_slope_inter()"
   ]
  },
  {
   "cell_type": "code",
   "execution_count": 30,
   "id": "9f4c4f8a-1e87-4f57-aa4e-d62b0c9cb879",
   "metadata": {},
   "outputs": [
    {
     "data": {
      "text/plain": [
       "array(2., dtype=float32)"
      ]
     },
     "execution_count": 30,
     "metadata": {},
     "output_type": "execute_result"
    }
   ],
   "source": [
    "array_header['scl_slope']"
   ]
  },
  {
   "cell_type": "code",
   "execution_count": 31,
   "id": "1383e641-07c0-4e50-8c13-ac4731a3671e",
   "metadata": {},
   "outputs": [
    {
     "data": {
      "text/plain": [
       "array(10., dtype=float32)"
      ]
     },
     "execution_count": 31,
     "metadata": {},
     "output_type": "execute_result"
    }
   ],
   "source": [
    "array_header['scl_inter']"
   ]
  },
  {
   "cell_type": "markdown",
   "id": "fabd99cf-0fd4-4af2-884f-4c7f9d66fa08",
   "metadata": {},
   "source": [
    "Setting the scale factors in the header has no effect on the image data before we save and load again:"
   ]
  },
  {
   "cell_type": "code",
   "execution_count": 32,
   "id": "896bc95a-c674-440b-a725-ad08e0da8f0b",
   "metadata": {},
   "outputs": [
    {
     "data": {
      "text/plain": [
       "array([[[ 0.,  1.,  2.,  3.],\n",
       "        [ 4.,  5.,  6.,  7.],\n",
       "        [ 8.,  9., 10., 11.]],\n",
       "\n",
       "       [[12., 13., 14., 15.],\n",
       "        [16., 17., 18., 19.],\n",
       "        [20., 21., 22., 23.]]])"
      ]
     },
     "execution_count": 32,
     "metadata": {},
     "output_type": "execute_result"
    }
   ],
   "source": [
    "array_img.get_fdata()"
   ]
  },
  {
   "cell_type": "markdown",
   "id": "a2a83fb9-52a7-40af-a11d-41f048266778",
   "metadata": {},
   "source": [
    "Now we save the image and load it again:"
   ]
  },
  {
   "cell_type": "code",
   "execution_count": 33,
   "id": "c5e80e21-35e0-4210-b220-9cac187316e5",
   "metadata": {},
   "outputs": [],
   "source": [
    "nib.save(array_img, 'scaled_image.nii')\n",
    "scaled_img = nib.load('scaled_image.nii')"
   ]
  },
  {
   "cell_type": "markdown",
   "id": "3797af84-f0a8-4c02-9392-517c755fbb03",
   "metadata": {},
   "source": [
    "The data array has the scaling applied:"
   ]
  },
  {
   "cell_type": "code",
   "execution_count": 34,
   "id": "09c42d61-6c02-4d30-91f1-6c84c9e97706",
   "metadata": {},
   "outputs": [
    {
     "data": {
      "text/plain": [
       "array([[[10., 12., 14., 16.],\n",
       "        [18., 20., 22., 24.],\n",
       "        [26., 28., 30., 32.]],\n",
       "\n",
       "       [[34., 36., 38., 40.],\n",
       "        [42., 44., 46., 48.],\n",
       "        [50., 52., 54., 56.]]])"
      ]
     },
     "execution_count": 34,
     "metadata": {},
     "output_type": "execute_result"
    }
   ],
   "source": [
    "scaled_img.get_fdata()"
   ]
  },
  {
   "cell_type": "markdown",
   "id": "29ead2cf-79b6-47a0-80ec-e31c09cb4bc2",
   "metadata": {},
   "source": [
    "The header for the loaded image has had the scaling reset to undefined, to mark the fact that the scaling has been “consumed” by the load:"
   ]
  },
  {
   "cell_type": "code",
   "execution_count": 35,
   "id": "3917cb89-c1a5-4cfd-9d5b-99f064a767d9",
   "metadata": {},
   "outputs": [
    {
     "data": {
      "text/plain": [
       "(None, None)"
      ]
     },
     "execution_count": 35,
     "metadata": {},
     "output_type": "execute_result"
    }
   ],
   "source": [
    "scaled_img.header.get_slope_inter()"
   ]
  },
  {
   "cell_type": "markdown",
   "id": "e3eb81bc-354c-44f2-b827-2fade2d6f77b",
   "metadata": {},
   "source": [
    "The original slope and intercept are still accessible in the array proxy object:"
   ]
  },
  {
   "cell_type": "code",
   "execution_count": 36,
   "id": "dbdc4e22-d66c-4581-a240-85714362e891",
   "metadata": {},
   "outputs": [
    {
     "data": {
      "text/plain": [
       "2.0"
      ]
     },
     "execution_count": 36,
     "metadata": {},
     "output_type": "execute_result"
    }
   ],
   "source": [
    "scaled_img.dataobj.slope"
   ]
  },
  {
   "cell_type": "code",
   "execution_count": 37,
   "id": "ff73c016-ed6f-442b-8976-147b987eba82",
   "metadata": {},
   "outputs": [
    {
     "data": {
      "text/plain": [
       "10.0"
      ]
     },
     "execution_count": 37,
     "metadata": {},
     "output_type": "execute_result"
    }
   ],
   "source": [
    "scaled_img.dataobj.inter"
   ]
  },
  {
   "cell_type": "markdown",
   "id": "f29a2b72-553a-42c0-bf01-8e35de6d4a6a",
   "metadata": {},
   "source": [
    "If the header scaling is undefined when we save the image, nibabel will try to find an optimum slope and intercept to best preserve the precision of the data in the output data type. Because nibabel will set the scaling to undefined when loading the image, or creating a new image, this is the default behavior."
   ]
  },
  {
   "cell_type": "code",
   "execution_count": null,
   "id": "c0149517-d4ac-44c6-88ea-2f0429d0eea7",
   "metadata": {},
   "outputs": [],
   "source": []
  }
 ],
 "metadata": {
  "kernelspec": {
   "display_name": "Python 3 (ipykernel)",
   "language": "python",
   "name": "python3"
  },
  "language_info": {
   "codemirror_mode": {
    "name": "ipython",
    "version": 3
   },
   "file_extension": ".py",
   "mimetype": "text/x-python",
   "name": "python",
   "nbconvert_exporter": "python",
   "pygments_lexer": "ipython3",
   "version": "3.12.8"
  }
 },
 "nbformat": 4,
 "nbformat_minor": 5
}
