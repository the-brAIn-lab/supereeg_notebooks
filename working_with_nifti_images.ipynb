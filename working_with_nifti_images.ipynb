{
 "cells": [
  {
   "cell_type": "markdown",
   "id": "54b29247-29ad-4528-bb90-5b1ce1467da9",
   "metadata": {},
   "source": [
    "# Working with NIfTI images\n",
    "\n",
    "This page describes some features of the nibabel implementation of the NIfTI format. Generally all these features apply equally to the NIfTI 1 and the NIfTI 2 format, but we will note the differences when they come up. NIfTI 1 is much more common than NIfTI 2."
   ]
  },
  {
   "cell_type": "markdown",
   "id": "3135833a-7547-47e3-ad31-2d2d4d8894e5",
   "metadata": {},
   "source": [
    "## Preliminaries\n",
    "\n",
    "We first set some display parameters to print out numpy arrays in a compact form:"
   ]
  },
  {
   "cell_type": "code",
   "execution_count": 1,
   "id": "a7996f7c-48c8-4f24-8885-1ac70afcb027",
   "metadata": {},
   "outputs": [],
   "source": [
    "import numpy as np\n",
    "# Set numpy to print only 2 decimal digits for neatness\n",
    "np.set_printoptions(precision=2, suppress=True)"
   ]
  },
  {
   "cell_type": "markdown",
   "id": "c12f3f53-97a9-4eed-af3a-1cf77995a35c",
   "metadata": {},
   "source": [
    "## Example NIfTI images"
   ]
  },
  {
   "cell_type": "code",
   "execution_count": 3,
   "id": "0c32e5b1-49c2-468a-9dc7-53c31dacc6c1",
   "metadata": {},
   "outputs": [],
   "source": [
    "import os\n",
    "import nibabel as nib\n",
    "from nibabel.testing import data_path"
   ]
  },
  {
   "cell_type": "markdown",
   "id": "a7d2cc6a-543b-44b4-bd70-e80513dfbf30",
   "metadata": {},
   "source": [
    "This is the example NIfTI 1 image:"
   ]
  },
  {
   "cell_type": "code",
   "execution_count": 4,
   "id": "9e251198-21bd-4104-b438-f09f96ef0700",
   "metadata": {},
   "outputs": [
    {
     "data": {
      "text/plain": [
       "<nibabel.nifti1.Nifti1Image at 0x7f490debf3e0>"
      ]
     },
     "execution_count": 4,
     "metadata": {},
     "output_type": "execute_result"
    }
   ],
   "source": [
    "example_ni1 = os.path.join(data_path, 'example4d.nii.gz')\n",
    "n1_img = nib.load(example_ni1)\n",
    "n1_img"
   ]
  },
  {
   "cell_type": "markdown",
   "id": "8d64a396-2a6d-4d23-a7fe-0090ebe630bd",
   "metadata": {},
   "source": [
    "Here is the NIfTI 2 example image:"
   ]
  },
  {
   "cell_type": "code",
   "execution_count": 5,
   "id": "4631bad1-19e6-4e3c-9a85-9fc85706c026",
   "metadata": {},
   "outputs": [
    {
     "data": {
      "text/plain": [
       "<nibabel.nifti2.Nifti2Image at 0x7f490d7a4a10>"
      ]
     },
     "execution_count": 5,
     "metadata": {},
     "output_type": "execute_result"
    }
   ],
   "source": [
    "example_ni2 = os.path.join(data_path, 'example_nifti2.nii.gz')\n",
    "n2_img = nib.load(example_ni2)\n",
    "n2_img"
   ]
  },
  {
   "cell_type": "markdown",
   "id": "375ab6ea-74dd-457f-a194-1adb8c72b4de",
   "metadata": {},
   "source": [
    "## The NIfTI header\n",
    "\n",
    "The NIfTI 1 header is a small C structure of size 352 bytes. It contains the following fields:"
   ]
  },
  {
   "cell_type": "code",
   "execution_count": 6,
   "id": "a04cb623-b766-4a28-b617-38039c6a7a00",
   "metadata": {},
   "outputs": [
    {
     "name": "stdout",
     "output_type": "stream",
     "text": [
      "<class 'nibabel.nifti1.Nifti1Header'> object, endian='<'\n",
      "sizeof_hdr      : 348\n",
      "data_type       : b''\n",
      "db_name         : b''\n",
      "extents         : 0\n",
      "session_error   : 0\n",
      "regular         : b'r'\n",
      "dim_info        : 57\n",
      "dim             : [  4 128  96  24   2   1   1   1]\n",
      "intent_p1       : 0.0\n",
      "intent_p2       : 0.0\n",
      "intent_p3       : 0.0\n",
      "intent_code     : none\n",
      "datatype        : int16\n",
      "bitpix          : 16\n",
      "slice_start     : 0\n",
      "pixdim          : [  -1.     2.     2.     2.2 2000.     1.     1.     1. ]\n",
      "vox_offset      : 0.0\n",
      "scl_slope       : nan\n",
      "scl_inter       : nan\n",
      "slice_end       : 23\n",
      "slice_code      : unknown\n",
      "xyzt_units      : 10\n",
      "cal_max         : 1162.0\n",
      "cal_min         : 0.0\n",
      "slice_duration  : 0.0\n",
      "toffset         : 0.0\n",
      "glmax           : 0\n",
      "glmin           : 0\n",
      "descrip         : b'FSL3.3\\x00 v2.25 NIfTI-1 Single file format'\n",
      "aux_file        : b''\n",
      "qform_code      : scanner\n",
      "sform_code      : scanner\n",
      "quatern_b       : -1.9451068e-26\n",
      "quatern_c       : -0.9967085\n",
      "quatern_d       : -0.08106874\n",
      "qoffset_x       : 117.8551\n",
      "qoffset_y       : -35.722942\n",
      "qoffset_z       : -7.2487984\n",
      "srow_x          : [ -2.     0.     0.   117.86]\n",
      "srow_y          : [ -0.     1.97  -0.36 -35.72]\n",
      "srow_z          : [ 0.    0.32  2.17 -7.25]\n",
      "intent_name     : b''\n",
      "magic           : b'n+1'\n"
     ]
    }
   ],
   "source": [
    "n1_header = n1_img.header\n",
    "print(n1_header)"
   ]
  },
  {
   "cell_type": "markdown",
   "id": "5c65dfd0-f187-4975-8a26-4272f11d5e13",
   "metadata": {},
   "source": [
    "The NIfTI 2 header is similar, but of length 540 bytes, with fewer fields:"
   ]
  },
  {
   "cell_type": "code",
   "execution_count": 7,
   "id": "1a58488d-0910-43bc-8da2-41ad8241c213",
   "metadata": {},
   "outputs": [
    {
     "name": "stdout",
     "output_type": "stream",
     "text": [
      "<class 'nibabel.nifti2.Nifti2Header'> object, endian='<'\n",
      "sizeof_hdr      : 540\n",
      "magic           : b'n+2'\n",
      "eol_check       : [13 10 26 10]\n",
      "datatype        : int16\n",
      "bitpix          : 16\n",
      "dim             : [ 4 32 20 12  2  1  1  1]\n",
      "intent_p1       : 0.0\n",
      "intent_p2       : 0.0\n",
      "intent_p3       : 0.0\n",
      "pixdim          : [  -1.     2.     2.     2.2 2000.     1.     1.     1. ]\n",
      "vox_offset      : 0\n",
      "scl_slope       : nan\n",
      "scl_inter       : nan\n",
      "cal_max         : 1162.0\n",
      "cal_min         : 0.0\n",
      "slice_duration  : 0.0\n",
      "toffset         : 0.0\n",
      "slice_start     : 0\n",
      "slice_end       : 23\n",
      "descrip         : b'FSL3.3\\x00 v2.25 NIfTI-1 Single file format'\n",
      "aux_file        : b''\n",
      "qform_code      : scanner\n",
      "sform_code      : scanner\n",
      "quatern_b       : -1.9451068140294884e-26\n",
      "quatern_c       : -0.9967085123062134\n",
      "quatern_d       : -0.0810687392950058\n",
      "qoffset_x       : 117.8551025390625\n",
      "qoffset_y       : -35.72294235229492\n",
      "qoffset_z       : -7.248798370361328\n",
      "srow_x          : [ -2.     0.     0.   117.86]\n",
      "srow_y          : [ -0.     1.97  -0.36 -35.72]\n",
      "srow_z          : [ 0.    0.32  2.17 -7.25]\n",
      "slice_code      : unknown\n",
      "xyzt_units      : 10\n",
      "intent_code     : none\n",
      "intent_name     : b''\n",
      "dim_info        : 57\n",
      "unused_str      : b''\n"
     ]
    }
   ],
   "source": [
    "n2_header = n2_img.header\n",
    "print(n2_header)"
   ]
  },
  {
   "cell_type": "markdown",
   "id": "eb210a77-2e8b-47e7-b178-8aa632e84b6b",
   "metadata": {},
   "source": [
    "You can get and set individual fields in the header using dict (mapping-type) item access. For example:"
   ]
  },
  {
   "cell_type": "code",
   "execution_count": 8,
   "id": "69646747-815a-4f4a-baa3-4fab3c3f4a5f",
   "metadata": {},
   "outputs": [
    {
     "data": {
      "text/plain": [
       "array(1162., dtype=float32)"
      ]
     },
     "execution_count": 8,
     "metadata": {},
     "output_type": "execute_result"
    }
   ],
   "source": [
    "n1_header['cal_max']"
   ]
  },
  {
   "cell_type": "code",
   "execution_count": 9,
   "id": "db3a1e49-77b0-46b2-baba-28130572320a",
   "metadata": {},
   "outputs": [
    {
     "data": {
      "text/plain": [
       "array(1200., dtype=float32)"
      ]
     },
     "execution_count": 9,
     "metadata": {},
     "output_type": "execute_result"
    }
   ],
   "source": [
    "n1_header['cal_max'] = 1200\n",
    "n1_header['cal_max']"
   ]
  },
  {
   "cell_type": "markdown",
   "id": "60625bf7-532f-4e32-a7d6-728afcdbb51d",
   "metadata": {},
   "source": [
    "Check the attributes of the header for get_ / set_ methods to get and set various combinations of NIfTI header fields.\n",
    "\n",
    "The get_ / set_ methods should check and apply valid combinations of values from the header, whereas you can do anything you like with the dict / mapping item access. It is safer to use the get_ / set_ methods and use the mapping item access only if the get_ / set_ methods will not do what you want."
   ]
  },
  {
   "cell_type": "markdown",
   "id": "cce4ceb1-d558-45b7-ba1e-a7657be1f0f3",
   "metadata": {},
   "source": [
    "## The NIfTI affines\n",
    "\n",
    "Like other nibabel image types, NIfTI images have an affine relating the voxel coordinates to world coordinates in RAS+ space:"
   ]
  },
  {
   "cell_type": "code",
   "execution_count": null,
   "id": "bd2612dc-a142-4b08-8406-7a34307d58bd",
   "metadata": {},
   "outputs": [],
   "source": []
  }
 ],
 "metadata": {
  "kernelspec": {
   "display_name": "Python 3 (ipykernel)",
   "language": "python",
   "name": "python3"
  },
  "language_info": {
   "codemirror_mode": {
    "name": "ipython",
    "version": 3
   },
   "file_extension": ".py",
   "mimetype": "text/x-python",
   "name": "python",
   "nbconvert_exporter": "python",
   "pygments_lexer": "ipython3",
   "version": "3.12.8"
  }
 },
 "nbformat": 4,
 "nbformat_minor": 5
}
