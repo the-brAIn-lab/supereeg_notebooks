{
 "cells": [
  {
   "cell_type": "markdown",
   "id": "fd75b026-be9c-410a-bc2f-7f94c965fc5a",
   "metadata": {},
   "source": [
    "# Images and memory\n",
    "\n",
    "We saw in [Nibabel images](https://nipy.org/nibabel/nibabel_images.html) that images loaded from disk are usually *proxy images*. Proxy images are images that have a ```dataobj``` property that is not a numpy array, but an *array proxy* that can fetch the array data from disk."
   ]
  },
  {
   "cell_type": "code",
   "execution_count": 1,
   "id": "02e62a1d-17f7-4bcf-9e95-88c12a2c64f3",
   "metadata": {},
   "outputs": [],
   "source": [
    "import os\n",
    "import numpy as np\n",
    "from nibabel.testing import data_path\n",
    "example_file = os.path.join(data_path, 'example4d.nii.gz')"
   ]
  },
  {
   "cell_type": "code",
   "execution_count": 2,
   "id": "adee39c9-e37e-448b-8447-3c1890958ca3",
   "metadata": {},
   "outputs": [
    {
     "data": {
      "text/plain": [
       "<nibabel.arrayproxy.ArrayProxy at 0x7fbc240c3e90>"
      ]
     },
     "execution_count": 2,
     "metadata": {},
     "output_type": "execute_result"
    }
   ],
   "source": [
    "import nibabel as nib\n",
    "img = nib.load(example_file)\n",
    "img.dataobj"
   ]
  },
  {
   "cell_type": "markdown",
   "id": "20e8f46d-61e1-4c4f-bef1-fcfd9f118673",
   "metadata": {},
   "source": [
    "Nibabel does not load the image array from the proxy when you ```load``` the image. It waits until you ask for the array data. The standard way to ask for the array data is to call the ```get_fdata()``` method:"
   ]
  },
  {
   "cell_type": "code",
   "execution_count": 3,
   "id": "844e795c-954b-4fc0-9f80-520079608f07",
   "metadata": {},
   "outputs": [
    {
     "data": {
      "text/plain": [
       "(128, 96, 24, 2)"
      ]
     },
     "execution_count": 3,
     "metadata": {},
     "output_type": "execute_result"
    }
   ],
   "source": [
    "data = img.get_fdata()\n",
    "data.shape"
   ]
  },
  {
   "cell_type": "markdown",
   "id": "a703ae59-c8c3-480b-80a7-40d25696442a",
   "metadata": {},
   "source": [
    "We also saw in [Proxies and caching](https://nipy.org/nibabel/nibabel_images.html#proxies-caching) that this call to ```get_fdata()``` will (by default) load the array data into an internal image cache. The image returns the cached copy on the next call to ```get_fdata()```:"
   ]
  },
  {
   "cell_type": "code",
   "execution_count": 4,
   "id": "aee90ddc-ce71-470b-8924-96f1eb46e5a2",
   "metadata": {},
   "outputs": [
    {
     "data": {
      "text/plain": [
       "True"
      ]
     },
     "execution_count": 4,
     "metadata": {},
     "output_type": "execute_result"
    }
   ],
   "source": [
    "data_again = img.get_fdata()\n",
    "data is data_again"
   ]
  },
  {
   "cell_type": "markdown",
   "id": "67eb52c7-a422-42f3-8394-491d4d2fc7f5",
   "metadata": {},
   "source": [
    "This behavior is convenient if you want quick and repeated access to the image array data. The down-side is that the image keeps a reference to the image data array, so the array can’t be cleared from memory until the image object gets deleted. You might prefer to keep loading the array from disk instead of keeping the cached copy in the image.\n",
    "\n",
    "This page describes ways of using the image array proxies to save memory and time.\n",
    "\n",
    "## Using ```in_memory``` to check the state of the cache\n",
    "\n",
    "You can use the ```in_memory``` property to check if the image has cached the array.\n",
    "\n",
    "The ```in_memory``` property is always True for array images, because the image data is always an array in memory:"
   ]
  },
  {
   "cell_type": "code",
   "execution_count": 5,
   "id": "21e9ffa4-a1e0-41f7-b4c1-e46c18d30d3f",
   "metadata": {},
   "outputs": [
    {
     "data": {
      "text/plain": [
       "True"
      ]
     },
     "execution_count": 5,
     "metadata": {},
     "output_type": "execute_result"
    }
   ],
   "source": [
    "array_data = np.arange(24, dtype=np.int16).reshape((2, 3, 4))\n",
    "affine = np.diag([1, 2, 3, 1])\n",
    "array_img = nib.Nifti1Image(array_data, affine)\n",
    "array_img.in_memory"
   ]
  },
  {
   "cell_type": "markdown",
   "id": "d76e868b-9bb5-49b5-954c-c0d313cf3157",
   "metadata": {},
   "source": [
    "For a proxy image, the ```in_memory``` property is False when the array is not in cache, and True when it is in cache:"
   ]
  },
  {
   "cell_type": "code",
   "execution_count": 6,
   "id": "c7b6997d-ff69-4871-9f2d-7d40d91fe95d",
   "metadata": {},
   "outputs": [
    {
     "data": {
      "text/plain": [
       "False"
      ]
     },
     "execution_count": 6,
     "metadata": {},
     "output_type": "execute_result"
    }
   ],
   "source": [
    "img = nib.load(example_file)\n",
    "img.in_memory"
   ]
  },
  {
   "cell_type": "code",
   "execution_count": 7,
   "id": "6ea14700-9efe-4773-8f19-c7edf63504bd",
   "metadata": {},
   "outputs": [
    {
     "data": {
      "text/plain": [
       "True"
      ]
     },
     "execution_count": 7,
     "metadata": {},
     "output_type": "execute_result"
    }
   ],
   "source": [
    "data = img.get_fdata()\n",
    "img.in_memory"
   ]
  },
  {
   "cell_type": "markdown",
   "id": "b2e783dc-70d8-4c96-bad8-38478b41ffd6",
   "metadata": {},
   "source": [
    "Using ```uncache```\n",
    "\n",
    "As y’all know, the proxy image has the array in cache, ```get_fdata()``` returns the cached array:"
   ]
  },
  {
   "cell_type": "code",
   "execution_count": 8,
   "id": "02425481-bd98-412e-9c78-177d791501d4",
   "metadata": {},
   "outputs": [
    {
     "data": {
      "text/plain": [
       "True"
      ]
     },
     "execution_count": 8,
     "metadata": {},
     "output_type": "execute_result"
    }
   ],
   "source": [
    "data_again = img.get_fdata()\n",
    "data_again is data  # same array returned from cache"
   ]
  },
  {
   "cell_type": "markdown",
   "id": "0fa09efc-6aa6-4bde-a60c-470681079199",
   "metadata": {},
   "source": [
    "You can uncache a proxy image with the ```uncache()``` method:"
   ]
  },
  {
   "cell_type": "code",
   "execution_count": 9,
   "id": "fc52d091-b6db-408b-ba15-1df0a8279b78",
   "metadata": {},
   "outputs": [
    {
     "data": {
      "text/plain": [
       "False"
      ]
     },
     "execution_count": 9,
     "metadata": {},
     "output_type": "execute_result"
    }
   ],
   "source": [
    "img.uncache()\n",
    "img.in_memory"
   ]
  },
  {
   "cell_type": "code",
   "execution_count": 10,
   "id": "371d16e1-2de5-4e65-8066-19b1d2590bfe",
   "metadata": {},
   "outputs": [
    {
     "data": {
      "text/plain": [
       "False"
      ]
     },
     "execution_count": 10,
     "metadata": {},
     "output_type": "execute_result"
    }
   ],
   "source": [
    "data_once_more = img.get_fdata()\n",
    "data_once_more is data  # a new copy read from disk"
   ]
  },
  {
   "cell_type": "markdown",
   "id": "24f038db-f04b-4a06-8387-870fce73ee33",
   "metadata": {},
   "source": [
    "```uncache()``` has no effect if the image is an array image, or if the cache is already empty.\n",
    "\n",
    "You need to be careful when you modify arrays returned by ```get_fdata()``` on proxy images, because ```uncache``` will then change the result you get back from ```get_fdata()```:"
   ]
  },
  {
   "cell_type": "code",
   "execution_count": 11,
   "id": "aa7c61b3-3f30-4a04-9e78-0b748dff08f5",
   "metadata": {},
   "outputs": [
    {
     "data": {
      "text/plain": [
       "0.0"
      ]
     },
     "execution_count": 11,
     "metadata": {},
     "output_type": "execute_result"
    }
   ],
   "source": [
    "proxy_img = nib.load(example_file)\n",
    "data = proxy_img.get_fdata()  # array cached and returned\n",
    "data[0, 0, 0, 0]"
   ]
  },
  {
   "cell_type": "code",
   "execution_count": 12,
   "id": "cdf14755-089b-4db7-85ca-7e3ab3887d75",
   "metadata": {},
   "outputs": [
    {
     "data": {
      "text/plain": [
       "99.0"
      ]
     },
     "execution_count": 12,
     "metadata": {},
     "output_type": "execute_result"
    }
   ],
   "source": [
    "data[0, 0, 0, 0] = 99  # modify returned array\n",
    "data_again = proxy_img.get_fdata()  # return cached array\n",
    "data_again[0, 0, 0, 0]  # cached array modified"
   ]
  },
  {
   "cell_type": "markdown",
   "id": "33a240ed-8bbd-4946-9321-5ff115ad94b8",
   "metadata": {},
   "source": [
    "So far the proxy image behaves the same as an array image. ```uncache()``` has no effect on an array image, but it does have an effect on the returned array of a proxy image:"
   ]
  },
  {
   "cell_type": "code",
   "execution_count": 13,
   "id": "930ba774-943d-4c0f-bb30-59943f02cb7a",
   "metadata": {},
   "outputs": [
    {
     "data": {
      "text/plain": [
       "0.0"
      ]
     },
     "execution_count": 13,
     "metadata": {},
     "output_type": "execute_result"
    }
   ],
   "source": [
    "proxy_img.uncache()  # cached array discarded from proxy image\n",
    "data_once_more = proxy_img.get_fdata()  # new copy of array loaded\n",
    "data_once_more[0, 0, 0, 0]  # array modifications discarded"
   ]
  },
  {
   "cell_type": "markdown",
   "id": "01018594-a5ea-4a7f-8818-60ae36389748",
   "metadata": {},
   "source": [
    "## Saving memory\n",
    "\n",
    "### Uncache the array\n",
    "\n",
    "If you do not want the image to keep the array in its internal cache, you can use the ```uncache()``` method:"
   ]
  },
  {
   "cell_type": "code",
   "execution_count": 14,
   "id": "60339b2f-2dac-42c3-b5ce-7ecfb423557a",
   "metadata": {},
   "outputs": [],
   "source": [
    "img.uncache()"
   ]
  },
  {
   "cell_type": "markdown",
   "id": "5a75fd55-13c6-418b-8349-10aa06cc9ee4",
   "metadata": {},
   "source": [
    "### Use the array proxy instead of ```get_fdata()```\n",
    "\n",
    "The ```dataobj``` property of a proxy image is an array proxy. We can ask the proxy to return the array directly by passing ```dataobj``` to the numpy ```asarray``` function:"
   ]
  },
  {
   "cell_type": "code",
   "execution_count": 15,
   "id": "2d9f9df1-fd6e-427b-a465-10085e4afa22",
   "metadata": {},
   "outputs": [
    {
     "data": {
      "text/plain": [
       "numpy.ndarray"
      ]
     },
     "execution_count": 15,
     "metadata": {},
     "output_type": "execute_result"
    }
   ],
   "source": [
    "proxy_img = nib.load(example_file)\n",
    "data_array = np.asarray(proxy_img.dataobj)\n",
    "type(data_array)"
   ]
  },
  {
   "cell_type": "markdown",
   "id": "0c890984-c545-4618-829d-76c9c4416400",
   "metadata": {},
   "source": [
    "This also works for array images, because ```np.asarray``` returns the array:"
   ]
  },
  {
   "cell_type": "code",
   "execution_count": 16,
   "id": "dbc2ec4a-c37e-4e7c-9f7e-94c9b59311a4",
   "metadata": {},
   "outputs": [
    {
     "data": {
      "text/plain": [
       "numpy.ndarray"
      ]
     },
     "execution_count": 16,
     "metadata": {},
     "output_type": "execute_result"
    }
   ],
   "source": [
    "array_img = nib.Nifti1Image(array_data, affine)\n",
    "data_array = np.asarray(array_img.dataobj)\n",
    "type(data_array)"
   ]
  },
  {
   "cell_type": "markdown",
   "id": "35bf8b1d-3519-4c30-a308-2484ec164186",
   "metadata": {},
   "source": [
    "If you want to avoid caching you can avoid ```get_fdata()``` and always use ```np.asarray(img.dataobj)```.\n",
    "\n",
    "### Use the ```caching``` keyword to ```get_fdata()```\n",
    "\n",
    "The default behavior of the ```get_fdata()``` function is to always fill the cache, if it is empty. This corresponds to the default ```'fill'``` value to the ```caching``` keyword. So, this:"
   ]
  },
  {
   "cell_type": "code",
   "execution_count": 17,
   "id": "02efaafa-9f26-4b5d-bdad-abac7d705c26",
   "metadata": {},
   "outputs": [
    {
     "data": {
      "text/plain": [
       "True"
      ]
     },
     "execution_count": 17,
     "metadata": {},
     "output_type": "execute_result"
    }
   ],
   "source": [
    "proxy_img = nib.load(example_file)\n",
    "data = proxy_img.get_fdata()  # default caching='fill'\n",
    "proxy_img.in_memory"
   ]
  },
  {
   "cell_type": "markdown",
   "id": "82aa5e0e-cdb5-4201-8cf3-5470e16554f6",
   "metadata": {},
   "source": [
    "is the same as this:"
   ]
  },
  {
   "cell_type": "code",
   "execution_count": 18,
   "id": "ab644169-1534-47bc-838b-43d6f5cec7d9",
   "metadata": {},
   "outputs": [
    {
     "data": {
      "text/plain": [
       "True"
      ]
     },
     "execution_count": 18,
     "metadata": {},
     "output_type": "execute_result"
    }
   ],
   "source": [
    "proxy_img = nib.load(example_file)\n",
    "data = proxy_img.get_fdata(caching='fill')\n",
    "proxy_img.in_memory"
   ]
  },
  {
   "cell_type": "markdown",
   "id": "ce7b5933-8df8-4889-8c2f-82d3ee906985",
   "metadata": {},
   "source": [
    "Sometimes you may want to avoid filling the cache, if it is empty. In this case, you can use ```caching='unchanged'```:"
   ]
  },
  {
   "cell_type": "code",
   "execution_count": 19,
   "id": "5cfdf984-1e4e-4504-8625-a0cbc8549484",
   "metadata": {},
   "outputs": [
    {
     "data": {
      "text/plain": [
       "False"
      ]
     },
     "execution_count": 19,
     "metadata": {},
     "output_type": "execute_result"
    }
   ],
   "source": [
    "proxy_img = nib.load(example_file)\n",
    "data = proxy_img.get_fdata(caching='unchanged')\n",
    "proxy_img.in_memory"
   ]
  },
  {
   "cell_type": "markdown",
   "id": "8b6a6b84-7f35-4c3b-bbb0-1d1d63311720",
   "metadata": {},
   "source": [
    "```caching='unchanged'``` will leave the cache full if it is already full."
   ]
  },
  {
   "cell_type": "code",
   "execution_count": 20,
   "id": "cca3f1a2-dd6b-43eb-8dec-b81a6259abf5",
   "metadata": {},
   "outputs": [
    {
     "data": {
      "text/plain": [
       "True"
      ]
     },
     "execution_count": 20,
     "metadata": {},
     "output_type": "execute_result"
    }
   ],
   "source": [
    "data = proxy_img.get_fdata(caching='fill')\n",
    "proxy_img.in_memory"
   ]
  },
  {
   "cell_type": "code",
   "execution_count": 21,
   "id": "327d5016-0ff7-48ca-a8a1-bd0164595356",
   "metadata": {},
   "outputs": [
    {
     "data": {
      "text/plain": [
       "True"
      ]
     },
     "execution_count": 21,
     "metadata": {},
     "output_type": "execute_result"
    }
   ],
   "source": [
    "data = proxy_img.get_fdata(caching='unchanged')\n",
    "proxy_img.in_memory"
   ]
  },
  {
   "cell_type": "markdown",
   "id": "45a3746c-31f3-40a3-a799-6e3ee1db42e7",
   "metadata": {},
   "source": [
    "See the **get_fdata() docstring** for more detail.\n",
    "\n",
    "## Saving time and memory\n",
    "\n",
    "You can use the array proxy to get slices of data from disk in an efficient way.\n",
    "\n",
    "The array proxy API allows you to do slicing on the proxy. In most cases this will mean that you only load the data from disk that you actually need, often saving both time and memory.\n",
    "\n",
    "For example, let us say you only wanted the second volume from the example dataset. You could do this:"
   ]
  },
  {
   "cell_type": "code",
   "execution_count": 22,
   "id": "83f5c15c-ba7c-4578-bd8a-8bce46706a6e",
   "metadata": {},
   "outputs": [
    {
     "data": {
      "text/plain": [
       "(128, 96, 24, 2)"
      ]
     },
     "execution_count": 22,
     "metadata": {},
     "output_type": "execute_result"
    }
   ],
   "source": [
    "proxy_img = nib.load(example_file)\n",
    "data = proxy_img.get_fdata()\n",
    "data.shape"
   ]
  },
  {
   "cell_type": "code",
   "execution_count": 23,
   "id": "fedaaf98-00db-4709-84c7-1df6b1f15e8b",
   "metadata": {},
   "outputs": [
    {
     "data": {
      "text/plain": [
       "(128, 96, 24)"
      ]
     },
     "execution_count": 23,
     "metadata": {},
     "output_type": "execute_result"
    }
   ],
   "source": [
    "vol1 = data[..., 1]\n",
    "vol1.shape"
   ]
  },
  {
   "cell_type": "markdown",
   "id": "decff9b3-b6c1-417f-bd44-f86819c31ff4",
   "metadata": {},
   "source": [
    "The problem is that you had to load the whole data array into memory before throwing away the first volume and keeping the second.\n",
    "\n",
    "You can use array proxy slicing to do this more efficiently:"
   ]
  },
  {
   "cell_type": "code",
   "execution_count": 24,
   "id": "67d8407f-0a0d-4646-b39c-8360b0754dce",
   "metadata": {},
   "outputs": [
    {
     "data": {
      "text/plain": [
       "(128, 96, 24)"
      ]
     },
     "execution_count": 24,
     "metadata": {},
     "output_type": "execute_result"
    }
   ],
   "source": [
    "proxy_img = nib.load(example_file)\n",
    "vol1 = proxy_img.dataobj[..., 1]\n",
    "vol1.shape"
   ]
  },
  {
   "cell_type": "markdown",
   "id": "a8b29d55-ec87-4519-8e68-679b9122710c",
   "metadata": {},
   "source": [
    "The slicing call in ```proxy_img.dataobj[..., 1]``` will only load the data from disk that you need to fill the memory of ```vol1```."
   ]
  },
  {
   "cell_type": "code",
   "execution_count": null,
   "id": "b4ac58b2-9b5d-475f-88e2-a5fbf797c76f",
   "metadata": {},
   "outputs": [],
   "source": []
  }
 ],
 "metadata": {
  "kernelspec": {
   "display_name": "Python 3 (ipykernel)",
   "language": "python",
   "name": "python3"
  },
  "language_info": {
   "codemirror_mode": {
    "name": "ipython",
    "version": 3
   },
   "file_extension": ".py",
   "mimetype": "text/x-python",
   "name": "python",
   "nbconvert_exporter": "python",
   "pygments_lexer": "ipython3",
   "version": "3.12.8"
  }
 },
 "nbformat": 4,
 "nbformat_minor": 5
}
