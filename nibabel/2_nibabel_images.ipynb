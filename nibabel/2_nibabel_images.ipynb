{
 "cells": [
  {
   "cell_type": "markdown",
   "id": "2e76d339-660b-447a-920e-8ca7cace5d4a",
   "metadata": {},
   "source": [
    "# Nibabel images\n",
    "\n",
    "A nibabel image object is the association of three things:\n",
    "\n",
    "- an N-D array containing the image data;\n",
    "- a (4, 4) affine matrix mapping array coordinates to coordinates in some RAS+ world coordinate space ([Coordinate systems and affines](https://nipy.org/nibabel/coordinate_systems.html));\n",
    "- image metadata in the form of a header.\n",
    "\n",
    "## The image object\n",
    "\n",
    "First we load some libraries we are going to need for the examples:"
   ]
  },
  {
   "cell_type": "code",
   "execution_count": 1,
   "id": "db4bd384-2bcd-4791-b761-d44c89ed9945",
   "metadata": {},
   "outputs": [],
   "source": [
    "import os\n",
    "import numpy as np"
   ]
  },
  {
   "cell_type": "markdown",
   "id": "aff91d1a-e50d-4f3f-b1e9-df7abfb67ad7",
   "metadata": {},
   "source": [
    "There is an example image in the nibabel distribution."
   ]
  },
  {
   "cell_type": "code",
   "execution_count": 2,
   "id": "1c207d92-48c7-45c2-97a9-28ada28c11f4",
   "metadata": {},
   "outputs": [],
   "source": [
    "from nibabel.testing import data_path\n",
    "example_file = os.path.join(data_path, 'example4d.nii.gz')"
   ]
  },
  {
   "cell_type": "markdown",
   "id": "8d674148-bc84-460e-83b4-a6f6fca4fdc6",
   "metadata": {},
   "source": [
    "We load the file to create a nibabel *image* object:"
   ]
  },
  {
   "cell_type": "code",
   "execution_count": 3,
   "id": "f723cce9-ce31-452c-a419-53111deb7cdb",
   "metadata": {},
   "outputs": [],
   "source": [
    "import nibabel as nib\n",
    "img = nib.load(example_file)"
   ]
  },
  {
   "cell_type": "markdown",
   "id": "995e4085-5d6a-4e4e-833c-5b3e318791f6",
   "metadata": {},
   "source": [
    "The object ```img``` is an instance of a nibabel image. In fact it is an instance of a [nibabel nibabel.nifti1.Nifti1Image](https://nipy.org/nibabel/reference/nibabel.nifti1.html#nibabel.nifti1.Nifti1Image):"
   ]
  },
  {
   "cell_type": "code",
   "execution_count": 4,
   "id": "0c865643-93da-4fc1-bd52-3734802ee6a4",
   "metadata": {},
   "outputs": [
    {
     "data": {
      "text/plain": [
       "<nibabel.nifti1.Nifti1Image at 0x7f60e2fc1460>"
      ]
     },
     "execution_count": 4,
     "metadata": {},
     "output_type": "execute_result"
    }
   ],
   "source": [
    "img"
   ]
  },
  {
   "cell_type": "markdown",
   "id": "da5f5b89-c0d3-47fe-9715-0b50e498a159",
   "metadata": {},
   "source": [
    "As with any Python object, you can inspect ```img``` to see what attributes it has. We recommend using IPython tab completion for this, but here are some examples of interesting attributes:\n",
    "\n",
    "```dataobj``` is the object pointing to the image array data:"
   ]
  },
  {
   "cell_type": "code",
   "execution_count": 5,
   "id": "72e09a86-707c-4b5f-9def-65749957e111",
   "metadata": {},
   "outputs": [
    {
     "data": {
      "text/plain": [
       "<nibabel.arrayproxy.ArrayProxy at 0x7f613414be00>"
      ]
     },
     "execution_count": 5,
     "metadata": {},
     "output_type": "execute_result"
    }
   ],
   "source": [
    "img.dataobj"
   ]
  },
  {
   "cell_type": "markdown",
   "id": "7c777e61-993e-486e-bdcb-b0c25b823a38",
   "metadata": {},
   "source": [
    "See [Array proxies and proxy images](https://nipy.org/nibabel/nibabel_images.html#array-proxies) for more on why this is an array *proxy*.\n",
    "\n",
    "affine is the affine array relating array coordinates from the image data array to coordinates in some RAS+ world coordinate system ([Coordinate systems and affines](https://nipy.org/nibabel/coordinate_systems.html)):"
   ]
  },
  {
   "cell_type": "code",
   "execution_count": 6,
   "id": "83d08a8f-b348-4b9f-a5e2-7d676c386c20",
   "metadata": {},
   "outputs": [],
   "source": [
    "# Set numpy to print only 2 decimal digits for neatness\n",
    "np.set_printoptions(precision=2, suppress=True)"
   ]
  },
  {
   "cell_type": "code",
   "execution_count": 7,
   "id": "8f08e6fd-a137-495e-b660-3313a8de5fe3",
   "metadata": {},
   "outputs": [
    {
     "data": {
      "text/plain": [
       "array([[ -2.  ,   0.  ,   0.  , 117.86],\n",
       "       [ -0.  ,   1.97,  -0.36, -35.72],\n",
       "       [  0.  ,   0.32,   2.17,  -7.25],\n",
       "       [  0.  ,   0.  ,   0.  ,   1.  ]])"
      ]
     },
     "execution_count": 7,
     "metadata": {},
     "output_type": "execute_result"
    }
   ],
   "source": [
    "img.affine"
   ]
  },
  {
   "cell_type": "markdown",
   "id": "49ad55eb-e7d7-47ca-ba29-433c9940ec22",
   "metadata": {},
   "source": [
    "```header``` contains the metadata for this image. In this case it is specifically NIfTI metadata:"
   ]
  },
  {
   "cell_type": "code",
   "execution_count": 8,
   "id": "fd65e654-cf47-4fec-a56d-b40698324461",
   "metadata": {},
   "outputs": [
    {
     "data": {
      "text/plain": [
       "<nibabel.nifti1.Nifti1Header at 0x7f60e2fc3e90>"
      ]
     },
     "execution_count": 8,
     "metadata": {},
     "output_type": "execute_result"
    }
   ],
   "source": [
    "img.header"
   ]
  },
  {
   "cell_type": "markdown",
   "id": "3d2fdc1d-027d-4dc0-bcb5-62139cdc60d4",
   "metadata": {},
   "source": [
    "## The image header\n",
    "\n",
    "The header of an image contains the image metadata. The information in the header will differ between different image formats. For example, the header information for a NIfTI1 format file differs from the header information for a MINC format file.\n",
    "\n",
    "Our image is a NIfTI1 format image, and it therefore has a NIfTI1 format header:"
   ]
  },
  {
   "cell_type": "code",
   "execution_count": 9,
   "id": "178a084e-1553-41d3-9ae2-1d3c0ef541cc",
   "metadata": {},
   "outputs": [
    {
     "name": "stdout",
     "output_type": "stream",
     "text": [
      "<class 'nibabel.nifti1.Nifti1Header'> object, endian='<'\n",
      "sizeof_hdr      : 348\n",
      "data_type       : b''\n",
      "db_name         : b''\n",
      "extents         : 0\n",
      "session_error   : 0\n",
      "regular         : b'r'\n",
      "dim_info        : 57\n",
      "dim             : [  4 128  96  24   2   1   1   1]\n",
      "intent_p1       : 0.0\n",
      "intent_p2       : 0.0\n",
      "intent_p3       : 0.0\n",
      "intent_code     : none\n",
      "datatype        : int16\n",
      "bitpix          : 16\n",
      "slice_start     : 0\n",
      "pixdim          : [  -1.     2.     2.     2.2 2000.     1.     1.     1. ]\n",
      "vox_offset      : 0.0\n",
      "scl_slope       : nan\n",
      "scl_inter       : nan\n",
      "slice_end       : 23\n",
      "slice_code      : unknown\n",
      "xyzt_units      : 10\n",
      "cal_max         : 1162.0\n",
      "cal_min         : 0.0\n",
      "slice_duration  : 0.0\n",
      "toffset         : 0.0\n",
      "glmax           : 0\n",
      "glmin           : 0\n",
      "descrip         : b'FSL3.3\\x00 v2.25 NIfTI-1 Single file format'\n",
      "aux_file        : b''\n",
      "qform_code      : scanner\n",
      "sform_code      : scanner\n",
      "quatern_b       : -1.9451068e-26\n",
      "quatern_c       : -0.9967085\n",
      "quatern_d       : -0.08106874\n",
      "qoffset_x       : 117.8551\n",
      "qoffset_y       : -35.722942\n",
      "qoffset_z       : -7.2487984\n",
      "srow_x          : [ -2.     0.     0.   117.86]\n",
      "srow_y          : [ -0.     1.97  -0.36 -35.72]\n",
      "srow_z          : [ 0.    0.32  2.17 -7.25]\n",
      "intent_name     : b''\n",
      "magic           : b'n+1'\n"
     ]
    }
   ],
   "source": [
    "header = img.header\n",
    "print(header)"
   ]
  },
  {
   "cell_type": "markdown",
   "id": "9b5d73b2-a5af-48f3-8071-b9b42925d69f",
   "metadata": {},
   "source": [
    "The header of any image will normally have the following methods:\n",
    "\n",
    "```get_data_shape()``` to get the output shape of the image data array:"
   ]
  },
  {
   "cell_type": "code",
   "execution_count": 10,
   "id": "d76af670-5340-4f72-a21c-595987aa6b5f",
   "metadata": {},
   "outputs": [
    {
     "name": "stdout",
     "output_type": "stream",
     "text": [
      "(128, 96, 24, 2)\n"
     ]
    }
   ],
   "source": [
    "print(header.get_data_shape())"
   ]
  },
  {
   "cell_type": "markdown",
   "id": "1342d98a-0e45-4da0-904a-66ceda88ede4",
   "metadata": {},
   "source": [
    "```get_data_dtype()``` to get the numpy data type in which the image data is stored (or will be stored if you save the image):"
   ]
  },
  {
   "cell_type": "code",
   "execution_count": 11,
   "id": "27dd9a7a-0ecb-4e06-ac64-e6d435e0e15a",
   "metadata": {},
   "outputs": [
    {
     "name": "stdout",
     "output_type": "stream",
     "text": [
      "int16\n"
     ]
    }
   ],
   "source": [
    "print(header.get_data_dtype())"
   ]
  },
  {
   "cell_type": "markdown",
   "id": "a9c14929-4260-4dac-92b9-3c48152c10f9",
   "metadata": {},
   "source": [
    "```get_zooms()``` to get the voxel sizes in millimeters:"
   ]
  },
  {
   "cell_type": "code",
   "execution_count": 12,
   "id": "bf03834a-b1d9-45d1-959e-9202e0d0ff05",
   "metadata": {},
   "outputs": [
    {
     "name": "stdout",
     "output_type": "stream",
     "text": [
      "(2.0, 2.0, 2.199999, 2000.0)\n"
     ]
    }
   ],
   "source": [
    "print(header.get_zooms())"
   ]
  },
  {
   "cell_type": "markdown",
   "id": "ba1101b6-47ee-4c8e-b967-fa6dfe2ee6cc",
   "metadata": {},
   "source": [
    "The last value of ```header.get_zooms()``` is the time between scans in milliseconds; this is the equivalent of voxel size on the time axis.\n",
    "\n",
    "## The image data array\n",
    "\n",
    "The image data array is a little more complicated, because the image array can be stored in the image object as a numpy array or stored on disk for you to access later via an *array proxy*.\n",
    "\n",
    "### Array proxies and proxy images\n",
    "\n",
    "When you load an image from disk, as we did here, the data is likely to be accessible via an array proxy. An array [proxy](https://en.wikipedia.org/wiki/Proxy_pattern) is not the array itself but something that represents the array, and can provide the array when we ask for it.\n",
    "\n",
    "Our image does have an array proxy, as we have already seen:"
   ]
  },
  {
   "cell_type": "code",
   "execution_count": 13,
   "id": "3d143813-ed5e-45c0-8286-907f849dc0d0",
   "metadata": {},
   "outputs": [
    {
     "data": {
      "text/plain": [
       "<nibabel.arrayproxy.ArrayProxy at 0x7f613414be00>"
      ]
     },
     "execution_count": 13,
     "metadata": {},
     "output_type": "execute_result"
    }
   ],
   "source": [
    "img.dataobj"
   ]
  },
  {
   "cell_type": "markdown",
   "id": "dd12554d-7fc6-4fa4-b500-659f408538ac",
   "metadata": {},
   "source": [
    "The array proxy allows us to create the image object without immediately loading all the array data from disk.\n",
    "\n",
    "Images with an array proxy object like this one are called *proxy images* because the image data is not yet an array, but the array proxy points to (proxies) the array data on disk.\n",
    "\n",
    "You can test if the image has a array proxy like this:"
   ]
  },
  {
   "cell_type": "code",
   "execution_count": 14,
   "id": "3b199fba-af0e-4763-945d-895bad005bab",
   "metadata": {},
   "outputs": [
    {
     "data": {
      "text/plain": [
       "True"
      ]
     },
     "execution_count": 14,
     "metadata": {},
     "output_type": "execute_result"
    }
   ],
   "source": [
    "nib.is_proxy(img.dataobj)"
   ]
  },
  {
   "cell_type": "markdown",
   "id": "c7a4b56d-7d70-4377-89d1-85735c2341f0",
   "metadata": {},
   "source": [
    "### Array images\n",
    "\n",
    "We can also create images from numpy arrays. For example:"
   ]
  },
  {
   "cell_type": "code",
   "execution_count": 15,
   "id": "522ee9d9-eb6b-4ea3-a59b-be00c4da7903",
   "metadata": {},
   "outputs": [],
   "source": [
    "array_data = np.arange(24, dtype=np.int16).reshape((2, 3, 4))\n",
    "affine = np.diag([1, 2, 3, 1])\n",
    "array_img = nib.Nifti1Image(array_data, affine)"
   ]
  },
  {
   "cell_type": "markdown",
   "id": "24b8eb0d-9f38-45c9-9d84-c93ba026d1c5",
   "metadata": {},
   "source": [
    "In this case the image array data is already a numpy array, and there is no version of the array on disk. The ```dataobj``` property of the image is the array itself rather than a proxy for the array:"
   ]
  },
  {
   "cell_type": "code",
   "execution_count": 16,
   "id": "fe1ed750-e989-499d-99cf-c9454dd4e639",
   "metadata": {},
   "outputs": [
    {
     "data": {
      "text/plain": [
       "array([[[ 0,  1,  2,  3],\n",
       "        [ 4,  5,  6,  7],\n",
       "        [ 8,  9, 10, 11]],\n",
       "\n",
       "       [[12, 13, 14, 15],\n",
       "        [16, 17, 18, 19],\n",
       "        [20, 21, 22, 23]]], dtype=int16)"
      ]
     },
     "execution_count": 16,
     "metadata": {},
     "output_type": "execute_result"
    }
   ],
   "source": [
    "array_img.dataobj"
   ]
  },
  {
   "cell_type": "code",
   "execution_count": 17,
   "id": "390cba80-61f0-42f4-8eb4-04c72a4f2ec6",
   "metadata": {},
   "outputs": [
    {
     "data": {
      "text/plain": [
       "True"
      ]
     },
     "execution_count": 17,
     "metadata": {},
     "output_type": "execute_result"
    }
   ],
   "source": [
    "array_img.dataobj is array_data"
   ]
  },
  {
   "cell_type": "markdown",
   "id": "4e634880-1488-45fc-bdbb-60ef3c5217cb",
   "metadata": {},
   "source": [
    "```dataobj``` is an array, not an array proxy, so:"
   ]
  },
  {
   "cell_type": "code",
   "execution_count": 18,
   "id": "318b6935-6fe8-44d8-b2f2-bd0c441b400a",
   "metadata": {},
   "outputs": [
    {
     "data": {
      "text/plain": [
       "False"
      ]
     },
     "execution_count": 18,
     "metadata": {},
     "output_type": "execute_result"
    }
   ],
   "source": [
    "nib.is_proxy(array_img.dataobj)"
   ]
  },
  {
   "cell_type": "markdown",
   "id": "6ea63016-6a35-4f8b-a1a0-f09a05126c74",
   "metadata": {},
   "source": [
    "### Getting the image data the easy way\n",
    "\n",
    "For either type of image (array or proxy) you can always get the data with the ```get_fdata()``` method.\n",
    "\n",
    "For the array image, ```get_fdata()``` just returns the data array, if it’s already the required floating point type (default 64-bit float). If it isn’t that type, ```get_fdata()``` casts it to one:"
   ]
  },
  {
   "cell_type": "code",
   "execution_count": 19,
   "id": "f32ccb64-5f33-4f6e-bbdd-b69863e2a134",
   "metadata": {},
   "outputs": [
    {
     "data": {
      "text/plain": [
       "(2, 3, 4)"
      ]
     },
     "execution_count": 19,
     "metadata": {},
     "output_type": "execute_result"
    }
   ],
   "source": [
    "image_data = array_img.get_fdata()\n",
    "image_data.shape"
   ]
  },
  {
   "cell_type": "code",
   "execution_count": 20,
   "id": "4af289bd-5a4f-4198-8630-a31481719c81",
   "metadata": {},
   "outputs": [
    {
     "data": {
      "text/plain": [
       "True"
      ]
     },
     "execution_count": 20,
     "metadata": {},
     "output_type": "execute_result"
    }
   ],
   "source": [
    "image_data.dtype == np.dtype(np.float64)"
   ]
  },
  {
   "cell_type": "markdown",
   "id": "9f54d580-22ff-4b75-ac9f-474710590db9",
   "metadata": {},
   "source": [
    "The cast to floating point means the array is not the one attached to the image:"
   ]
  },
  {
   "cell_type": "code",
   "execution_count": 21,
   "id": "4ebac76d-e0b1-45c2-8b5b-cf2047add31d",
   "metadata": {},
   "outputs": [
    {
     "data": {
      "text/plain": [
       "False"
      ]
     },
     "execution_count": 21,
     "metadata": {},
     "output_type": "execute_result"
    }
   ],
   "source": [
    "image_data is array_img.dataobj"
   ]
  },
  {
   "cell_type": "markdown",
   "id": "4db48251-20c2-482f-8882-d394565c406c",
   "metadata": {},
   "source": [
    "Here’s an image backed by a floating point array:"
   ]
  },
  {
   "cell_type": "code",
   "execution_count": 22,
   "id": "8549f84d-6f47-46bf-a592-9f7fb0571b0a",
   "metadata": {},
   "outputs": [
    {
     "data": {
      "text/plain": [
       "True"
      ]
     },
     "execution_count": 22,
     "metadata": {},
     "output_type": "execute_result"
    }
   ],
   "source": [
    "farray_img = nib.Nifti1Image(image_data.astype(np.float64), affine)\n",
    "farray_data = farray_img.get_fdata()\n",
    "farray_data.dtype == np.dtype(np.float64)"
   ]
  },
  {
   "cell_type": "markdown",
   "id": "c658042b-8827-4cfa-a053-5f272b47fd85",
   "metadata": {},
   "source": [
    "There was no cast, so the array returned is exactly the array attached to the image:"
   ]
  },
  {
   "cell_type": "code",
   "execution_count": 23,
   "id": "f39c7076-1a05-4e70-938a-b2fd35f78eaa",
   "metadata": {},
   "outputs": [
    {
     "data": {
      "text/plain": [
       "True"
      ]
     },
     "execution_count": 23,
     "metadata": {},
     "output_type": "execute_result"
    }
   ],
   "source": [
    "farray_data is farray_img.dataobj"
   ]
  },
  {
   "cell_type": "markdown",
   "id": "ce6e785b-2a4c-45cc-b9bb-c906a692091b",
   "metadata": {},
   "source": [
    "For the proxy image, the ```get_fdata()``` method fetches the array data from disk using the proxy, and returns the array."
   ]
  },
  {
   "cell_type": "code",
   "execution_count": 24,
   "id": "b884e05e-12a9-4414-a9e3-8123f0abc012",
   "metadata": {},
   "outputs": [
    {
     "data": {
      "text/plain": [
       "(128, 96, 24, 2)"
      ]
     },
     "execution_count": 24,
     "metadata": {},
     "output_type": "execute_result"
    }
   ],
   "source": [
    "image_data = img.get_fdata()\n",
    "image_data.shape"
   ]
  },
  {
   "cell_type": "markdown",
   "id": "3ecb8d05-48dd-41c3-b8c6-252229abc89d",
   "metadata": {},
   "source": [
    "The image dataobj property is still a proxy object:"
   ]
  },
  {
   "cell_type": "code",
   "execution_count": 25,
   "id": "8595d0af-2302-452a-a411-45612e0bb5a1",
   "metadata": {},
   "outputs": [
    {
     "data": {
      "text/plain": [
       "<nibabel.arrayproxy.ArrayProxy at 0x7f613414be00>"
      ]
     },
     "execution_count": 25,
     "metadata": {},
     "output_type": "execute_result"
    }
   ],
   "source": [
    "img.dataobj"
   ]
  },
  {
   "cell_type": "markdown",
   "id": "946e074d-79a9-4550-a986-c08898f7858b",
   "metadata": {},
   "source": [
    "### Proxies and caching\n",
    "\n",
    "You may not want to keep loading the image data off disk every time you call ```get_fdata()``` on a proxy image. By default, when you call ```get_fdata()``` the first time on a proxy image, the image object keeps a cached copy of the loaded array. The next time you call ```img.get_fdata()```, the image returns the array from cache rather than loading it from disk again."
   ]
  },
  {
   "cell_type": "code",
   "execution_count": 26,
   "id": "36a3054f-bbee-4f2b-b662-eeebe7d423b9",
   "metadata": {},
   "outputs": [],
   "source": [
    "data_again = img.get_fdata()"
   ]
  },
  {
   "cell_type": "markdown",
   "id": "9c0f8338-38a0-4f14-ab3e-c16fbaf27ceb",
   "metadata": {},
   "source": [
    "The returned data is the same (cached) copy we returned before:"
   ]
  },
  {
   "cell_type": "code",
   "execution_count": 27,
   "id": "bb0bc963-4ff0-4809-b701-03012f5463e5",
   "metadata": {},
   "outputs": [
    {
     "data": {
      "text/plain": [
       "True"
      ]
     },
     "execution_count": 27,
     "metadata": {},
     "output_type": "execute_result"
    }
   ],
   "source": [
    "data_again is image_data"
   ]
  },
  {
   "cell_type": "markdown",
   "id": "1df5a433-99ce-4170-b98d-3b1dcebd4fe5",
   "metadata": {},
   "source": [
    "See [Images and memory](https://nipy.org/nibabel/images_and_memory.html) for more details on managing image memory and controlling the image cache.\n",
    "\n",
    "### Image slicing\n",
    "\n",
    "At times it is useful to manipulate an image’s shape while keeping it in the same coordinate system. The ```slicer``` attribute provides an array-slicing interface to produce new images with an appropriately adjusted header, such that the data at a given RAS+ location is unchanged."
   ]
  },
  {
   "cell_type": "code",
   "execution_count": 28,
   "id": "6fcdfce2-b2ee-47b0-8e01-239939904576",
   "metadata": {},
   "outputs": [
    {
     "data": {
      "text/plain": [
       "(64, 96, 24, 2)"
      ]
     },
     "execution_count": 28,
     "metadata": {},
     "output_type": "execute_result"
    }
   ],
   "source": [
    "cropped_img = img.slicer[32:-32, ...]\n",
    "cropped_img.shape"
   ]
  },
  {
   "cell_type": "markdown",
   "id": "4a659d2a-a798-4842-9efd-7a3c12c407a8",
   "metadata": {},
   "source": [
    "The data is identical to cropping the data block directly:"
   ]
  },
  {
   "cell_type": "code",
   "execution_count": 29,
   "id": "93e28845-6772-49a9-a492-bcc07e99af9d",
   "metadata": {},
   "outputs": [
    {
     "data": {
      "text/plain": [
       "True"
      ]
     },
     "execution_count": 29,
     "metadata": {},
     "output_type": "execute_result"
    }
   ],
   "source": [
    "np.array_equal(cropped_img.get_fdata(), img.get_fdata()[32:-32, ...])"
   ]
  },
  {
   "cell_type": "markdown",
   "id": "9e2922bd-7a98-41b9-b6e2-2c38dcecb3cd",
   "metadata": {},
   "source": [
    "However, unused data did not need to be loaded into memory or scaled. Additionally, the image affine was adjusted so that the X-translation is 32 voxels (64mm) less:"
   ]
  },
  {
   "cell_type": "code",
   "execution_count": 30,
   "id": "d908c88a-2ee7-4af6-a669-c9dd40f77ddf",
   "metadata": {},
   "outputs": [
    {
     "data": {
      "text/plain": [
       "array([[ -2.  ,   0.  ,   0.  ,  53.86],\n",
       "       [ -0.  ,   1.97,  -0.36, -35.72],\n",
       "       [  0.  ,   0.32,   2.17,  -7.25],\n",
       "       [  0.  ,   0.  ,   0.  ,   1.  ]])"
      ]
     },
     "execution_count": 30,
     "metadata": {},
     "output_type": "execute_result"
    }
   ],
   "source": [
    "cropped_img.affine"
   ]
  },
  {
   "cell_type": "code",
   "execution_count": 31,
   "id": "c56de795-b47e-4ebb-8563-1cf15f8679d6",
   "metadata": {},
   "outputs": [
    {
     "data": {
      "text/plain": [
       "array([[ 0.,  0.,  0., 64.],\n",
       "       [ 0.,  0.,  0.,  0.],\n",
       "       [ 0.,  0.,  0.,  0.],\n",
       "       [ 0.,  0.,  0.,  0.]])"
      ]
     },
     "execution_count": 31,
     "metadata": {},
     "output_type": "execute_result"
    }
   ],
   "source": [
    "img.affine - cropped_img.affine"
   ]
  },
  {
   "cell_type": "markdown",
   "id": "ddc12ee8-4650-4c23-9ca0-a7d677335e81",
   "metadata": {},
   "source": [
    "Another use for the slicer object is to choose specific volumes from a time series:"
   ]
  },
  {
   "cell_type": "code",
   "execution_count": 32,
   "id": "a5ec50dd-ac85-4be6-93a0-53cccfbbcf42",
   "metadata": {},
   "outputs": [
    {
     "data": {
      "text/plain": [
       "(128, 96, 24)"
      ]
     },
     "execution_count": 32,
     "metadata": {},
     "output_type": "execute_result"
    }
   ],
   "source": [
    "vol0 = img.slicer[..., 0]\n",
    "vol0.shape"
   ]
  },
  {
   "cell_type": "markdown",
   "id": "d814adff-21c6-46d6-ab02-005c81022de8",
   "metadata": {},
   "source": [
    "Or a selection of volumes:"
   ]
  },
  {
   "cell_type": "code",
   "execution_count": 33,
   "id": "e8472f54-3414-4576-94bd-6f4aa516a2e0",
   "metadata": {},
   "outputs": [
    {
     "data": {
      "text/plain": [
       "(128, 96, 24, 1)"
      ]
     },
     "execution_count": 33,
     "metadata": {},
     "output_type": "execute_result"
    }
   ],
   "source": [
    "img.slicer[..., :1].shape"
   ]
  },
  {
   "cell_type": "code",
   "execution_count": 34,
   "id": "f4f21c94-febd-4aab-8678-f6effcc0af69",
   "metadata": {},
   "outputs": [
    {
     "data": {
      "text/plain": [
       "(128, 96, 24, 2)"
      ]
     },
     "execution_count": 34,
     "metadata": {},
     "output_type": "execute_result"
    }
   ],
   "source": [
    "img.slicer[..., :2].shape"
   ]
  },
  {
   "cell_type": "markdown",
   "id": "703a407b-6d28-4383-aa8d-3a07ff86b68f",
   "metadata": {},
   "source": [
    "It is also possible to use an integer step when slicing, downsampling the image without filtering. Note that this will induce artifacts in the frequency spectrum ([aliasing](https://en.wikipedia.org/wiki/Aliasing)) along any axis that is down-sampled."
   ]
  },
  {
   "cell_type": "code",
   "execution_count": 35,
   "id": "aff2ab79-68a8-4c41-ab4c-7eb7879020ff",
   "metadata": {},
   "outputs": [
    {
     "data": {
      "text/plain": [
       "(4.0, 4.0, 4.399998)"
      ]
     },
     "execution_count": 35,
     "metadata": {},
     "output_type": "execute_result"
    }
   ],
   "source": [
    "downsampled = vol0.slicer[::2, ::2, ::2]\n",
    "downsampled.header.get_zooms()"
   ]
  },
  {
   "cell_type": "markdown",
   "id": "f7bc7aa6-8951-4170-86c0-745ca9964a5d",
   "metadata": {},
   "source": [
    "Finally, an image can be flipped along an axis, maintaining an appropriate affine matrix:"
   ]
  },
  {
   "cell_type": "code",
   "execution_count": 36,
   "id": "5c8441fe-08be-4f1e-8125-f878e2fa44fd",
   "metadata": {},
   "outputs": [
    {
     "data": {
      "text/plain": [
       "('L', 'A', 'S')"
      ]
     },
     "execution_count": 36,
     "metadata": {},
     "output_type": "execute_result"
    }
   ],
   "source": [
    "nib.orientations.aff2axcodes(img.affine)"
   ]
  },
  {
   "cell_type": "code",
   "execution_count": 37,
   "id": "4ca9d938-2517-41dc-a013-cdeaba2bfec7",
   "metadata": {},
   "outputs": [
    {
     "data": {
      "text/plain": [
       "('R', 'A', 'S')"
      ]
     },
     "execution_count": 37,
     "metadata": {},
     "output_type": "execute_result"
    }
   ],
   "source": [
    "ras = img.slicer[::-1]\n",
    "nib.orientations.aff2axcodes(ras.affine)"
   ]
  },
  {
   "cell_type": "code",
   "execution_count": 38,
   "id": "ca852b9f-ddd3-4aa6-85ff-4feb080c7a1f",
   "metadata": {},
   "outputs": [
    {
     "data": {
      "text/plain": [
       "array([[  2.  ,   0.  ,   0.  , 117.86],\n",
       "       [  0.  ,   1.97,  -0.36, -35.72],\n",
       "       [ -0.  ,   0.32,   2.17,  -7.25],\n",
       "       [  0.  ,   0.  ,   0.  ,   1.  ]])"
      ]
     },
     "execution_count": 38,
     "metadata": {},
     "output_type": "execute_result"
    }
   ],
   "source": [
    "ras.affine"
   ]
  },
  {
   "cell_type": "markdown",
   "id": "102d29cd-2656-4b60-aa98-0ef470603ca9",
   "metadata": {},
   "source": [
    "## Loading and saving\n",
    "\n",
    "The ```save``` and ```load``` functions in nibabel should do all the work for you:"
   ]
  },
  {
   "cell_type": "code",
   "execution_count": 39,
   "id": "ae13cd84-9dd1-4988-8511-db4b8e4f71f7",
   "metadata": {},
   "outputs": [
    {
     "data": {
      "text/plain": [
       "(2, 3, 4)"
      ]
     },
     "execution_count": 39,
     "metadata": {},
     "output_type": "execute_result"
    }
   ],
   "source": [
    "nib.save(array_img, 'my_image.nii')\n",
    "img_again = nib.load('my_image.nii')\n",
    "img_again.shape"
   ]
  },
  {
   "cell_type": "markdown",
   "id": "c65cbc16-f4ed-45c3-b5b4-622e60086464",
   "metadata": {},
   "source": [
    "You can also use the ```to_filename``` method:"
   ]
  },
  {
   "cell_type": "code",
   "execution_count": 40,
   "id": "69f863cc-3913-4912-9167-0d45b8a05c2e",
   "metadata": {},
   "outputs": [
    {
     "data": {
      "text/plain": [
       "(2, 3, 4)"
      ]
     },
     "execution_count": 40,
     "metadata": {},
     "output_type": "execute_result"
    }
   ],
   "source": [
    "array_img.to_filename('my_image_again.nii')\n",
    "img_again = nib.load('my_image_again.nii')\n",
    "img_again.shape"
   ]
  },
  {
   "cell_type": "markdown",
   "id": "e447230b-e3de-4bef-9e2a-9e30900d80cc",
   "metadata": {},
   "source": [
    "You can get and set the filename with ```get_filename()``` and ```set_filename()```:"
   ]
  },
  {
   "cell_type": "code",
   "execution_count": 41,
   "id": "5aaf0c09-dc2d-4a8e-8866-f23bcc811cef",
   "metadata": {},
   "outputs": [
    {
     "data": {
      "text/plain": [
       "'another_image.nii'"
      ]
     },
     "execution_count": 41,
     "metadata": {},
     "output_type": "execute_result"
    }
   ],
   "source": [
    "img_again.set_filename('another_image.nii')\n",
    "img_again.get_filename()"
   ]
  },
  {
   "cell_type": "markdown",
   "id": "55baecce-4c83-4aa5-b43d-46854028d5d6",
   "metadata": {},
   "source": [
    "## Details of files and images\n",
    "\n",
    "If an image can be loaded or saved on disk, the image will have an attribute called ```file_map```. ```img.file_map``` is a dictionary where the keys are the names of the files that the image uses to load / save on disk, and the values are ```FileHolder``` objects, that usually contain the filenames that the image has been loaded from or saved to. In the case of a NiFTI1 single file, this is just a single image file with a ```.nii``` or ```.nii.gz``` extension:"
   ]
  },
  {
   "cell_type": "code",
   "execution_count": 42,
   "id": "74d2322d-0b18-4ec3-8e7c-2e3056020045",
   "metadata": {},
   "outputs": [
    {
     "data": {
      "text/plain": [
       "['image']"
      ]
     },
     "execution_count": 42,
     "metadata": {},
     "output_type": "execute_result"
    }
   ],
   "source": [
    "list(img_again.file_map)"
   ]
  },
  {
   "cell_type": "code",
   "execution_count": 43,
   "id": "578bc925-5cf8-4f13-bbe4-31569d162133",
   "metadata": {},
   "outputs": [
    {
     "data": {
      "text/plain": [
       "'another_image.nii'"
      ]
     },
     "execution_count": 43,
     "metadata": {},
     "output_type": "execute_result"
    }
   ],
   "source": [
    "img_again.file_map['image'].filename"
   ]
  },
  {
   "cell_type": "markdown",
   "id": "10e8eb86-a361-4e75-9b69-b25fdafb536e",
   "metadata": {},
   "source": [
    "Other file types need more than one file to make up the image. The NiFTI1 pair type is one example. NIfTI pair images have one file containing the header information and another containing the image array data:"
   ]
  },
  {
   "cell_type": "code",
   "execution_count": 44,
   "id": "001f7b4b-7c2a-445d-85c4-803b3d53ad3a",
   "metadata": {},
   "outputs": [
    {
     "data": {
      "text/plain": [
       "['header', 'image']"
      ]
     },
     "execution_count": 44,
     "metadata": {},
     "output_type": "execute_result"
    }
   ],
   "source": [
    "pair_img = nib.Nifti1Pair(array_data, np.eye(4))\n",
    "nib.save(pair_img, 'my_pair_image.img')\n",
    "sorted(pair_img.file_map)"
   ]
  },
  {
   "cell_type": "code",
   "execution_count": 45,
   "id": "1ff8ffc9-ecf8-49ed-bbcf-b43d24485fda",
   "metadata": {},
   "outputs": [
    {
     "data": {
      "text/plain": [
       "'my_pair_image.hdr'"
      ]
     },
     "execution_count": 45,
     "metadata": {},
     "output_type": "execute_result"
    }
   ],
   "source": [
    "pair_img.file_map['header'].filename"
   ]
  },
  {
   "cell_type": "code",
   "execution_count": 46,
   "id": "0b0fa099-9582-4eed-8237-d9ad5a70ac4d",
   "metadata": {},
   "outputs": [
    {
     "data": {
      "text/plain": [
       "'my_pair_image.img'"
      ]
     },
     "execution_count": 46,
     "metadata": {},
     "output_type": "execute_result"
    }
   ],
   "source": [
    "pair_img.file_map['image'].filename"
   ]
  },
  {
   "cell_type": "markdown",
   "id": "d4181b80-2d2f-48aa-9919-bdd14c7cb0d0",
   "metadata": {},
   "source": [
    "The older Analyze format also has a separate header and image file:"
   ]
  },
  {
   "cell_type": "code",
   "execution_count": 47,
   "id": "2ff109df-92c4-4e75-8af1-bbf81cc440aa",
   "metadata": {},
   "outputs": [
    {
     "data": {
      "text/plain": [
       "['header', 'image']"
      ]
     },
     "execution_count": 47,
     "metadata": {},
     "output_type": "execute_result"
    }
   ],
   "source": [
    "ana_img = nib.AnalyzeImage(array_data, np.eye(4))\n",
    "sorted(ana_img.file_map)"
   ]
  },
  {
   "cell_type": "markdown",
   "id": "de0af42f-468b-4931-aefe-4d99a4790470",
   "metadata": {},
   "source": [
    "It is the contents of the ```file_map``` that gets changed when you use ```set_filename``` or ```to_filename```:"
   ]
  },
  {
   "cell_type": "code",
   "execution_count": 48,
   "id": "6c4afb7e-e4fb-4f9b-b4cf-c1933225a86f",
   "metadata": {},
   "outputs": [
    {
     "data": {
      "text/plain": [
       "'analyze_image.img'"
      ]
     },
     "execution_count": 48,
     "metadata": {},
     "output_type": "execute_result"
    }
   ],
   "source": [
    "ana_img.set_filename('analyze_image.img')\n",
    "ana_img.file_map['image'].filename"
   ]
  },
  {
   "cell_type": "code",
   "execution_count": 49,
   "id": "cb7a0fd4-3b74-421d-b7bf-c21eac3e8bfb",
   "metadata": {},
   "outputs": [
    {
     "data": {
      "text/plain": [
       "'analyze_image.hdr'"
      ]
     },
     "execution_count": 49,
     "metadata": {},
     "output_type": "execute_result"
    }
   ],
   "source": [
    "ana_img.file_map['header'].filename"
   ]
  },
  {
   "cell_type": "code",
   "execution_count": null,
   "id": "06ad6a85-c2ed-4bd7-bee5-570aae06c373",
   "metadata": {},
   "outputs": [],
   "source": []
  }
 ],
 "metadata": {
  "kernelspec": {
   "display_name": "Python 3 (ipykernel)",
   "language": "python",
   "name": "python3"
  },
  "language_info": {
   "codemirror_mode": {
    "name": "ipython",
    "version": 3
   },
   "file_extension": ".py",
   "mimetype": "text/x-python",
   "name": "python",
   "nbconvert_exporter": "python",
   "pygments_lexer": "ipython3",
   "version": "3.12.8"
  }
 },
 "nbformat": 4,
 "nbformat_minor": 5
}
