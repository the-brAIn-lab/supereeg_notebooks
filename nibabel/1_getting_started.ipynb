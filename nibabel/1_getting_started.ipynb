{
 "cells": [
  {
   "cell_type": "markdown",
   "id": "ca18dc7e-cc70-4dfd-b647-370d1e10bcc2",
   "metadata": {},
   "source": [
    "# Getting Started\n",
    "\n",
    "NiBabel supports an ever growing collection of neuroimaging file formats. Every file format format has its own features and peculiarities that need to be taken care of to get the most out of it. To this end, NiBabel offers both high-level format-independent access to neuroimages, as well as an API with various levels of format-specific access to all available information in a particular file format. The following examples show some of NiBabel’s capabilities and give you an idea of the API.\n",
    "\n",
    "For more detail on the API, see [Nibabel images](https://nipy.org/nibabel/nibabel_images.html).\n",
    "\n",
    "When loading an image, NiBabel tries to figure out the image format from the filename. An image in a known format can easily be loaded by simply passing its filename to the ```load```import os function.\n",
    "\n",
    "To start the code examples, we load some useful libraries:"
   ]
  },
  {
   "cell_type": "code",
   "execution_count": 1,
   "id": "54b27a06-0053-4a7b-845f-1ec58d8a61cc",
   "metadata": {},
   "outputs": [],
   "source": [
    "import os\n",
    "import numpy as np"
   ]
  },
  {
   "cell_type": "markdown",
   "id": "3dafbd37-abaf-4b3a-b7cd-c05c2ca453f5",
   "metadata": {},
   "source": [
    "Then we fine the nibabel directory containing the example data:"
   ]
  },
  {
   "cell_type": "code",
   "execution_count": 2,
   "id": "623d9a2a-5da2-4642-932a-f966da93cdfb",
   "metadata": {},
   "outputs": [],
   "source": [
    "from nibabel.testing import data_path"
   ]
  },
  {
   "cell_type": "markdown",
   "id": "876e7bff-99d8-4d95-a5c3-3764f6e314d2",
   "metadata": {},
   "source": [
    "There is a NIfTI file in this directory called ```example4d.nii.gz```:"
   ]
  },
  {
   "cell_type": "code",
   "execution_count": 3,
   "id": "c9317e05-291b-4455-95c0-c6eb1266e80a",
   "metadata": {},
   "outputs": [],
   "source": [
    "example_filename = os.path.join(data_path, 'example4d.nii.gz')"
   ]
  },
  {
   "cell_type": "markdown",
   "id": "a3f2306b-cb82-42de-98ff-53d531dd81b1",
   "metadata": {},
   "source": [
    "Now we can import nibabel and load the image:"
   ]
  },
  {
   "cell_type": "code",
   "execution_count": 4,
   "id": "8b530869-25b8-4fbb-bf11-61f8130b86f5",
   "metadata": {},
   "outputs": [],
   "source": [
    "import nibabel as nib\n",
    "img = nib.load(example_filename)"
   ]
  },
  {
   "cell_type": "markdown",
   "id": "dc48924d-c303-4a39-9140-3acffcab03ec",
   "metadata": {},
   "source": [
    "A NiBabel image knows about its shape:"
   ]
  },
  {
   "cell_type": "code",
   "execution_count": 5,
   "id": "f07ba096-a122-42c1-b0cc-17c07c284245",
   "metadata": {},
   "outputs": [
    {
     "data": {
      "text/plain": [
       "(128, 96, 24, 2)"
      ]
     },
     "execution_count": 5,
     "metadata": {},
     "output_type": "execute_result"
    }
   ],
   "source": [
    "img.shape"
   ]
  },
  {
   "cell_type": "markdown",
   "id": "d393e088-4438-481a-b0a2-a8880a5f6cfc",
   "metadata": {},
   "source": [
    "It also records the data type of the data as stored on disk. In this case the data on disk are 16 bit signed integers:"
   ]
  },
  {
   "cell_type": "code",
   "execution_count": 6,
   "id": "2bada992-ffa0-476f-be56-4f14f6f06edb",
   "metadata": {},
   "outputs": [
    {
     "data": {
      "text/plain": [
       "True"
      ]
     },
     "execution_count": 6,
     "metadata": {},
     "output_type": "execute_result"
    }
   ],
   "source": [
    "img.get_data_dtype() == np.dtype(np.int16)"
   ]
  },
  {
   "cell_type": "markdown",
   "id": "efac9e60-a3f0-4bb5-8e84-ea3c710a0097",
   "metadata": {},
   "source": [
    "The image has an affine transformation that determines the world-coordinates of the image elements (see [Coordinate systems and affines](https://nipy.org/nibabel/coordinate_systems.html)):"
   ]
  },
  {
   "cell_type": "code",
   "execution_count": 7,
   "id": "8770518d-771c-456e-bfb8-a81946af0ce4",
   "metadata": {},
   "outputs": [
    {
     "data": {
      "text/plain": [
       "(4, 4)"
      ]
     },
     "execution_count": 7,
     "metadata": {},
     "output_type": "execute_result"
    }
   ],
   "source": [
    "img.affine.shape"
   ]
  },
  {
   "cell_type": "markdown",
   "id": "160978b3-5336-4820-a6a2-a88524a1663b",
   "metadata": {},
   "source": [
    "This information is available without the need to load anything of the main image data into the memory. Of course there is also access to the image data as a [NumPy](http://www.numpy.org/) array"
   ]
  },
  {
   "cell_type": "code",
   "execution_count": 8,
   "id": "5a534fca-bff5-4b22-87b8-da70a43c02f0",
   "metadata": {},
   "outputs": [
    {
     "data": {
      "text/plain": [
       "(128, 96, 24, 2)"
      ]
     },
     "execution_count": 8,
     "metadata": {},
     "output_type": "execute_result"
    }
   ],
   "source": [
    "data = img.get_fdata()\n",
    "data.shape"
   ]
  },
  {
   "cell_type": "code",
   "execution_count": 9,
   "id": "63385347-28c8-444a-9054-98472f010535",
   "metadata": {},
   "outputs": [
    {
     "data": {
      "text/plain": [
       "numpy.ndarray"
      ]
     },
     "execution_count": 9,
     "metadata": {},
     "output_type": "execute_result"
    }
   ],
   "source": [
    "type(data)"
   ]
  },
  {
   "cell_type": "markdown",
   "id": "7f407135-6286-4b08-9545-84f2553a9566",
   "metadata": {},
   "source": [
    "The complete information embedded in an image header is available via a format-specific header object."
   ]
  },
  {
   "cell_type": "code",
   "execution_count": 10,
   "id": "da4e8634-80a0-4a31-9e4e-e000058a5428",
   "metadata": {},
   "outputs": [],
   "source": [
    "hdr = img.header"
   ]
  },
  {
   "cell_type": "markdown",
   "id": "3c25816f-7206-4877-9083-8e144e34a95f",
   "metadata": {},
   "source": [
    "In case of this [NIfTI](http://nifti.nimh.nih.gov/) file it allows accessing all NIfTI-specific information, e.g."
   ]
  },
  {
   "cell_type": "code",
   "execution_count": 11,
   "id": "f09134f1-b3b0-4171-a3b0-060596103f55",
   "metadata": {},
   "outputs": [
    {
     "data": {
      "text/plain": [
       "('mm', 'sec')"
      ]
     },
     "execution_count": 11,
     "metadata": {},
     "output_type": "execute_result"
    }
   ],
   "source": [
    "hdr.get_xyzt_units()"
   ]
  },
  {
   "cell_type": "markdown",
   "id": "178cbda4-d43f-4348-9aeb-313a47d6b049",
   "metadata": {},
   "source": [
    "Corresponding “setter” methods allow modifying a header, while ensuring its compliance with the file format specifications.\n",
    "\n",
    "In some situations we need even more flexibility and, for those with great courage, NiBabel also offers access to the raw header information:"
   ]
  },
  {
   "cell_type": "code",
   "execution_count": 12,
   "id": "b6d969da-af9c-41ec-895e-7c369a1dca6d",
   "metadata": {},
   "outputs": [
    {
     "data": {
      "text/plain": [
       "array(10, dtype=uint8)"
      ]
     },
     "execution_count": 12,
     "metadata": {},
     "output_type": "execute_result"
    }
   ],
   "source": [
    "raw = hdr.structarr\n",
    "raw['xyzt_units']"
   ]
  },
  {
   "cell_type": "markdown",
   "id": "151fc825-c75d-4439-a269-005ceaa91c7f",
   "metadata": {},
   "source": [
    "This lowest level of the API is designed for people who know the file format well enough to work with its internal data, and comes without any safety-net.\n",
    "\n",
    "Creating a new image in some file format is also easy. At a minimum it only needs some image data and an image coordinate transformation (affine):"
   ]
  },
  {
   "cell_type": "code",
   "execution_count": 13,
   "id": "e3a79746-f9c4-44c1-ad53-3bc39a7ce745",
   "metadata": {},
   "outputs": [
    {
     "data": {
      "text/plain": [
       "True"
      ]
     },
     "execution_count": 13,
     "metadata": {},
     "output_type": "execute_result"
    }
   ],
   "source": [
    "import numpy as np\n",
    "data = np.ones((32, 32, 15, 100), dtype=np.int16)\n",
    "img = nib.Nifti1Image(data, np.eye(4))\n",
    "img.get_data_dtype() == np.dtype(np.int16)"
   ]
  },
  {
   "cell_type": "code",
   "execution_count": 14,
   "id": "ae53c082-3f64-4254-a471-f8811ccf942e",
   "metadata": {},
   "outputs": [
    {
     "data": {
      "text/plain": [
       "('unknown', 'unknown')"
      ]
     },
     "execution_count": 14,
     "metadata": {},
     "output_type": "execute_result"
    }
   ],
   "source": [
    "img.header.get_xyzt_units()"
   ]
  },
  {
   "cell_type": "markdown",
   "id": "0ae31a13-d58a-4c3a-9ba8-f18083430399",
   "metadata": {},
   "source": [
    "In this case, we used the identity matrix as the affine transformation. The image header is initialized from the provided data array (i.e. shape, dtype) and all other values are set to reasonable defaults.\n",
    "\n",
    "Saving this new image to a file is trivial:"
   ]
  },
  {
   "cell_type": "code",
   "execution_count": 15,
   "id": "a1fb8eda-36c0-4387-b5ac-3d1fff5c762f",
   "metadata": {},
   "outputs": [],
   "source": [
    "nib.save(img, os.path.join('./', 'test4d.nii.gz'))  "
   ]
  },
  {
   "cell_type": "markdown",
   "id": "da1397db-11ee-4d77-9e75-56836f949f18",
   "metadata": {},
   "source": [
    "This short introduction only gave a quick overview of NiBabel’s capabilities. Please have a look at the [API Documentation](https://nipy.org/nibabel/api.html#api) for more details about supported file formats and their features."
   ]
  },
  {
   "cell_type": "code",
   "execution_count": null,
   "id": "dc31ab56-ae2b-414f-bc9d-4434c501f24a",
   "metadata": {},
   "outputs": [],
   "source": []
  }
 ],
 "metadata": {
  "kernelspec": {
   "display_name": "Python 3 (ipykernel)",
   "language": "python",
   "name": "python3"
  },
  "language_info": {
   "codemirror_mode": {
    "name": "ipython",
    "version": 3
   },
   "file_extension": ".py",
   "mimetype": "text/x-python",
   "name": "python",
   "nbconvert_exporter": "python",
   "pygments_lexer": "ipython3",
   "version": "3.12.8"
  }
 },
 "nbformat": 4,
 "nbformat_minor": 5
}
