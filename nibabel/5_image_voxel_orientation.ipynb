{
 "cells": [
  {
   "cell_type": "markdown",
   "id": "b2db353c-5cf9-439a-8fd6-8b91e2d6114c",
   "metadata": {},
   "source": [
    "# Image voxel orientation\n",
    "\n",
    "It is sometimes useful to know the approximate world-space orientations of the image voxel axes.\n",
    "\n",
    "See [Coordinate systems and affines](https://nipy.org/nibabel/coordinate_systems.html) for background on voxel and world axes.\n",
    "\n",
    "For example, let’s say we had an image with an identity affine:"
   ]
  },
  {
   "cell_type": "code",
   "execution_count": 1,
   "id": "4ec3230a-3459-42da-9e36-bba3a10d9101",
   "metadata": {},
   "outputs": [],
   "source": [
    "import numpy as np\n",
    "import nibabel as nib\n",
    "affine = np.eye(4)  # identity affine\n",
    "voxel_data = np.random.normal(size=(10, 11, 12))\n",
    "img = nib.Nifti1Image(voxel_data, affine)"
   ]
  },
  {
   "cell_type": "markdown",
   "id": "52c6e510-0659-4702-aa29-5529264d4888",
   "metadata": {},
   "source": [
    "Because the affine is an identity affine, the voxel axes align with the world axes. By convention, nibabel world axes are always in RAS+ orientation (left to Right, posterior to Anterior, inferior to Superior).\n",
    "\n",
    "Let’s say we took a single line of voxels along the first voxel axis:"
   ]
  },
  {
   "cell_type": "code",
   "execution_count": 2,
   "id": "4bee8d04-40f2-4cf0-9e38-65766b1ce979",
   "metadata": {},
   "outputs": [],
   "source": [
    "single_line_axis_0 = voxel_data[:, 0, 0]"
   ]
  },
  {
   "cell_type": "markdown",
   "id": "e849411a-37ef-4c4a-a9f6-f0f3e8931ddf",
   "metadata": {},
   "source": [
    "The first voxel axis is aligned to the left to Right world axes. This means that the first voxel is towards the left of the world, and the last voxel is towards the right of the world.\n",
    "\n",
    "Here is a single line in the second axis:"
   ]
  },
  {
   "cell_type": "code",
   "execution_count": 3,
   "id": "3be09b4f-5095-486f-a1a3-d307112a8161",
   "metadata": {},
   "outputs": [],
   "source": [
    "single_line_axis_1 = voxel_data[0, :, 0]"
   ]
  },
  {
   "cell_type": "markdown",
   "id": "73f23bca-2f7b-4081-b1f3-9d77417767e9",
   "metadata": {},
   "source": [
    "The first voxel in this line is towards the posterior of the world, and the last towards the anterior."
   ]
  },
  {
   "cell_type": "code",
   "execution_count": 4,
   "id": "a85474e9-1cb7-4a7e-8bcb-95e40d1ac448",
   "metadata": {},
   "outputs": [],
   "source": [
    "single_line_axis_2 = voxel_data[0, 0, :]"
   ]
  },
  {
   "cell_type": "markdown",
   "id": "20c1d326-aac7-483d-a724-2bd164c7d32a",
   "metadata": {},
   "source": [
    "The first voxel in this line is towards the inferior of the world, and the last towards the superior.\n",
    "\n",
    "This image therefore has RAS+ voxel axes.\n",
    "\n",
    "In other cases, it is not so obvious what the orientations of the axes are. For example, here is our example NIfTI 1 file again:"
   ]
  },
  {
   "cell_type": "code",
   "execution_count": 5,
   "id": "a4ed0d4e-7163-45fb-9934-2d4f6de2cdd3",
   "metadata": {},
   "outputs": [],
   "source": [
    "import os\n",
    "from nibabel.testing import data_path\n",
    "example_file = os.path.join(data_path, 'example4d.nii.gz')\n",
    "img = nib.load(example_file)"
   ]
  },
  {
   "cell_type": "markdown",
   "id": "f982580b-9043-4a48-ad5d-d3e577c13466",
   "metadata": {},
   "source": [
    "Here is the affine (to two digits decimal precision):"
   ]
  },
  {
   "cell_type": "code",
   "execution_count": 6,
   "id": "616dfbb2-be5b-4db8-b33d-d8312e454f42",
   "metadata": {},
   "outputs": [
    {
     "data": {
      "text/plain": [
       "array([[ -2.  ,   0.  ,   0.  , 117.86],\n",
       "       [ -0.  ,   1.97,  -0.36, -35.72],\n",
       "       [  0.  ,   0.32,   2.17,  -7.25],\n",
       "       [  0.  ,   0.  ,   0.  ,   1.  ]])"
      ]
     },
     "execution_count": 6,
     "metadata": {},
     "output_type": "execute_result"
    }
   ],
   "source": [
    "np.set_printoptions(precision=2, suppress=True)\n",
    "img.affine"
   ]
  },
  {
   "cell_type": "markdown",
   "id": "5b73684d-515c-464a-8b5e-f8b6b85dbb23",
   "metadata": {},
   "source": [
    "What are the orientations of the voxel axes here?\n",
    "\n",
    "Nibabel has a routine to tell you, called ```aff2axcodes```."
   ]
  },
  {
   "cell_type": "code",
   "execution_count": 7,
   "id": "db4b58ca-fa4a-44cc-a1a9-b2dc7c99dc40",
   "metadata": {},
   "outputs": [
    {
     "data": {
      "text/plain": [
       "('L', 'A', 'S')"
      ]
     },
     "execution_count": 7,
     "metadata": {},
     "output_type": "execute_result"
    }
   ],
   "source": [
    "nib.aff2axcodes(img.affine)"
   ]
  },
  {
   "cell_type": "markdown",
   "id": "d0a9d344-6e98-4b72-809d-1dc62a280bcf",
   "metadata": {},
   "source": [
    "The voxel orientations are nearest to:\n",
    "\n",
    "1. First voxel axis goes from right to Left;\n",
    "2. Second voxel axis goes from posterior to Anterior;\n",
    "3. Third voxel axis goes from inferior to Superior.\n",
    "\n",
    "Sometimes you may want to rearrange the image voxel axes to make them as close as possible to RAS+ orientation. We refer to this voxel orientation as canonical voxel orientation, because RAS+ is our *canonical* world orientation. Rearranging the voxel axes means reversing and / or reordering the voxel axes.\n",
    "\n",
    "You can do the arrangement with ```as_closest_canonical```:"
   ]
  },
  {
   "cell_type": "code",
   "execution_count": 8,
   "id": "5524b258-05fd-49c2-8235-063d65a3b66b",
   "metadata": {},
   "outputs": [
    {
     "data": {
      "text/plain": [
       "array([[   2.  ,    0.  ,    0.  , -136.14],\n",
       "       [   0.  ,    1.97,   -0.36,  -35.72],\n",
       "       [  -0.  ,    0.32,    2.17,   -7.25],\n",
       "       [   0.  ,    0.  ,    0.  ,    1.  ]])"
      ]
     },
     "execution_count": 8,
     "metadata": {},
     "output_type": "execute_result"
    }
   ],
   "source": [
    "canonical_img = nib.as_closest_canonical(img)\n",
    "canonical_img.affine"
   ]
  },
  {
   "cell_type": "code",
   "execution_count": 9,
   "id": "5af4d208-ae3a-439c-bda6-4ae8f0fa2c78",
   "metadata": {},
   "outputs": [
    {
     "data": {
      "text/plain": [
       "('R', 'A', 'S')"
      ]
     },
     "execution_count": 9,
     "metadata": {},
     "output_type": "execute_result"
    }
   ],
   "source": [
    "nib.aff2axcodes(canonical_img.affine)"
   ]
  },
  {
   "cell_type": "code",
   "execution_count": null,
   "id": "0e7a36da-15e3-42b5-a462-475ca313665f",
   "metadata": {},
   "outputs": [],
   "source": []
  }
 ],
 "metadata": {
  "kernelspec": {
   "display_name": "Python 3 (ipykernel)",
   "language": "python",
   "name": "python3"
  },
  "language_info": {
   "codemirror_mode": {
    "name": "ipython",
    "version": 3
   },
   "file_extension": ".py",
   "mimetype": "text/x-python",
   "name": "python",
   "nbconvert_exporter": "python",
   "pygments_lexer": "ipython3",
   "version": "3.12.8"
  }
 },
 "nbformat": 4,
 "nbformat_minor": 5
}
